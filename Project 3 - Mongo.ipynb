{
 "cells": [
  {
   "cell_type": "code",
   "execution_count": 1,
   "id": "ddabee53",
   "metadata": {},
   "outputs": [],
   "source": [
    "from pymongo import MongoClient \n",
    "from pprint import pprint\n",
    "import pandas as pd\n",
    "import matplotlib.pyplot as plt"
   ]
  },
  {
   "cell_type": "markdown",
   "id": "cdb44220",
   "metadata": {},
   "source": [
    "Import cleaned csv (duplicate \"state_code.1\" columns must be dropped in order to avoid conflict) to MONGO db by running the following command in your terminal:\n",
    "\n",
    "mongoimport --type csv -d startups -c startup_data --headerline --drop /Users/rexpeters/Desktop/project3/startup_data_cleaned.csv"
   ]
  },
  {
   "cell_type": "code",
   "execution_count": 2,
   "id": "76115a25",
   "metadata": {},
   "outputs": [],
   "source": [
    "mongo = MongoClient(port=27017) "
   ]
  },
  {
   "cell_type": "code",
   "execution_count": 3,
   "id": "b8f4cbd1",
   "metadata": {},
   "outputs": [
    {
     "name": "stdout",
     "output_type": "stream",
     "text": [
      "['admin', 'config', 'local', 'startups', 'uk_food']\n"
     ]
    }
   ],
   "source": [
    "print(mongo.list_database_names()) "
   ]
  },
  {
   "cell_type": "code",
   "execution_count": 4,
   "id": "7ec2d2c8",
   "metadata": {},
   "outputs": [],
   "source": [
    "db = mongo['startups']"
   ]
  },
  {
   "cell_type": "code",
   "execution_count": 5,
   "id": "fff61266",
   "metadata": {},
   "outputs": [
    {
     "name": "stdout",
     "output_type": "stream",
     "text": [
      "['startup_data']\n"
     ]
    }
   ],
   "source": [
    "print(db.list_collection_names()) "
   ]
  },
  {
   "cell_type": "code",
   "execution_count": 6,
   "id": "2d5889b6",
   "metadata": {},
   "outputs": [],
   "source": [
    "startup_data = db['startup_data']"
   ]
  },
  {
   "cell_type": "code",
   "execution_count": 7,
   "id": "feb65eac",
   "metadata": {},
   "outputs": [
    {
     "data": {
      "text/plain": [
       "{'_id': ObjectId('673fd06d8401e92197c3ffa4'),\n",
       " 'Unnamed: 0': 1005,\n",
       " 'state_code': 'CA',\n",
       " 'latitude': 42.35888,\n",
       " 'longitude': -71.05682,\n",
       " 'zip_code': 92101,\n",
       " 'id': 'c:6669',\n",
       " 'city': 'San Diego',\n",
       " 'Unnamed: 6': '',\n",
       " 'name': 'Bandsintown',\n",
       " 'labels': 1,\n",
       " 'founded_at': '1/1/2007',\n",
       " 'closed_at': '',\n",
       " 'first_funding_at': '4/1/2009',\n",
       " 'last_funding_at': '1/1/2010',\n",
       " 'age_first_funding_year': 2.2493,\n",
       " 'age_last_funding_year': 3.0027,\n",
       " 'age_first_milestone_year': 4.6685,\n",
       " 'age_last_milestone_year': 6.7041,\n",
       " 'relationships': 3,\n",
       " 'funding_rounds': 3,\n",
       " 'funding_total_usd': 375000,\n",
       " 'milestones': 3,\n",
       " 'is_CA': 1,\n",
       " 'is_NY': 0,\n",
       " 'is_MA': 0,\n",
       " 'is_TX': 0,\n",
       " 'is_otherstate': 0,\n",
       " 'category_code': 'music',\n",
       " 'is_software': 0,\n",
       " 'is_web': 0,\n",
       " 'is_mobile': 0,\n",
       " 'is_enterprise': 0,\n",
       " 'is_advertising': 0,\n",
       " 'is_gamesvideo': 0,\n",
       " 'is_ecommerce': 0,\n",
       " 'is_biotech': 0,\n",
       " 'is_consulting': 0,\n",
       " 'is_othercategory': 1,\n",
       " 'object_id': 'c:6669',\n",
       " 'has_VC': 0,\n",
       " 'has_angel': 1,\n",
       " 'has_roundA': 0,\n",
       " 'has_roundB': 0,\n",
       " 'has_roundC': 0,\n",
       " 'has_roundD': 0,\n",
       " 'avg_participants': 1.0,\n",
       " 'is_top500': 0,\n",
       " 'status': 'acquired'}"
      ]
     },
     "execution_count": 7,
     "metadata": {},
     "output_type": "execute_result"
    }
   ],
   "source": [
    "startup_data.find_one()"
   ]
  },
  {
   "cell_type": "code",
   "execution_count": null,
   "id": "d01650f7",
   "metadata": {},
   "outputs": [],
   "source": []
  },
  {
   "cell_type": "code",
   "execution_count": 8,
   "id": "f512e86e",
   "metadata": {},
   "outputs": [
    {
     "name": "stdout",
     "output_type": "stream",
     "text": [
      "<class 'pymongo.collection.Collection'>\n",
      "Collection(Database(MongoClient(host=['localhost:27017'], document_class=dict, tz_aware=False, connect=True), 'startups'), 'startup_data')\n"
     ]
    }
   ],
   "source": [
    "print(type(startup_data))\n",
    "print(startup_data)"
   ]
  },
  {
   "cell_type": "code",
   "execution_count": 9,
   "id": "2f52c28d",
   "metadata": {},
   "outputs": [],
   "source": [
    "data = list(startup_data.find())  # Convert MongoDB cursor to a list\n",
    "dataframe = pd.DataFrame(data)"
   ]
  },
  {
   "cell_type": "code",
   "execution_count": 10,
   "id": "34d754d1",
   "metadata": {},
   "outputs": [
    {
     "data": {
      "text/plain": [
       "923"
      ]
     },
     "execution_count": 10,
     "metadata": {},
     "output_type": "execute_result"
    }
   ],
   "source": [
    "len(dataframe)"
   ]
  },
  {
   "cell_type": "code",
   "execution_count": 11,
   "id": "c48f7c96",
   "metadata": {
    "scrolled": true
   },
   "outputs": [
    {
     "data": {
      "text/html": [
       "<div>\n",
       "<style scoped>\n",
       "    .dataframe tbody tr th:only-of-type {\n",
       "        vertical-align: middle;\n",
       "    }\n",
       "\n",
       "    .dataframe tbody tr th {\n",
       "        vertical-align: top;\n",
       "    }\n",
       "\n",
       "    .dataframe thead th {\n",
       "        text-align: right;\n",
       "    }\n",
       "</style>\n",
       "<table border=\"1\" class=\"dataframe\">\n",
       "  <thead>\n",
       "    <tr style=\"text-align: right;\">\n",
       "      <th></th>\n",
       "      <th>_id</th>\n",
       "      <th>Unnamed: 0</th>\n",
       "      <th>state_code</th>\n",
       "      <th>latitude</th>\n",
       "      <th>longitude</th>\n",
       "      <th>zip_code</th>\n",
       "      <th>id</th>\n",
       "      <th>city</th>\n",
       "      <th>Unnamed: 6</th>\n",
       "      <th>name</th>\n",
       "      <th>...</th>\n",
       "      <th>object_id</th>\n",
       "      <th>has_VC</th>\n",
       "      <th>has_angel</th>\n",
       "      <th>has_roundA</th>\n",
       "      <th>has_roundB</th>\n",
       "      <th>has_roundC</th>\n",
       "      <th>has_roundD</th>\n",
       "      <th>avg_participants</th>\n",
       "      <th>is_top500</th>\n",
       "      <th>status</th>\n",
       "    </tr>\n",
       "  </thead>\n",
       "  <tbody>\n",
       "    <tr>\n",
       "      <th>0</th>\n",
       "      <td>673fd06d8401e92197c3ffa4</td>\n",
       "      <td>1005</td>\n",
       "      <td>CA</td>\n",
       "      <td>42.358880</td>\n",
       "      <td>-71.056820</td>\n",
       "      <td>92101</td>\n",
       "      <td>c:6669</td>\n",
       "      <td>San Diego</td>\n",
       "      <td></td>\n",
       "      <td>Bandsintown</td>\n",
       "      <td>...</td>\n",
       "      <td>c:6669</td>\n",
       "      <td>0</td>\n",
       "      <td>1</td>\n",
       "      <td>0</td>\n",
       "      <td>0</td>\n",
       "      <td>0</td>\n",
       "      <td>0</td>\n",
       "      <td>1.0000</td>\n",
       "      <td>0</td>\n",
       "      <td>acquired</td>\n",
       "    </tr>\n",
       "    <tr>\n",
       "      <th>1</th>\n",
       "      <td>673fd06d8401e92197c3ffa5</td>\n",
       "      <td>204</td>\n",
       "      <td>CA</td>\n",
       "      <td>37.238916</td>\n",
       "      <td>-121.973718</td>\n",
       "      <td>95032</td>\n",
       "      <td>c:16283</td>\n",
       "      <td>Los Gatos</td>\n",
       "      <td></td>\n",
       "      <td>TriCipher</td>\n",
       "      <td>...</td>\n",
       "      <td>c:16283</td>\n",
       "      <td>1</td>\n",
       "      <td>0</td>\n",
       "      <td>0</td>\n",
       "      <td>1</td>\n",
       "      <td>1</td>\n",
       "      <td>1</td>\n",
       "      <td>4.7500</td>\n",
       "      <td>1</td>\n",
       "      <td>acquired</td>\n",
       "    </tr>\n",
       "    <tr>\n",
       "      <th>2</th>\n",
       "      <td>673fd06d8401e92197c3ffa6</td>\n",
       "      <td>1001</td>\n",
       "      <td>CA</td>\n",
       "      <td>32.901049</td>\n",
       "      <td>-117.192656</td>\n",
       "      <td>92121</td>\n",
       "      <td>c:65620</td>\n",
       "      <td>San Diego</td>\n",
       "      <td>San Diego CA 92121</td>\n",
       "      <td>Plixi</td>\n",
       "      <td>...</td>\n",
       "      <td>c:65620</td>\n",
       "      <td>0</td>\n",
       "      <td>0</td>\n",
       "      <td>1</td>\n",
       "      <td>0</td>\n",
       "      <td>0</td>\n",
       "      <td>0</td>\n",
       "      <td>4.0000</td>\n",
       "      <td>1</td>\n",
       "      <td>acquired</td>\n",
       "    </tr>\n",
       "    <tr>\n",
       "      <th>3</th>\n",
       "      <td>673fd06d8401e92197c3ffa7</td>\n",
       "      <td>1002</td>\n",
       "      <td>CA</td>\n",
       "      <td>37.779281</td>\n",
       "      <td>-122.419236</td>\n",
       "      <td>94105</td>\n",
       "      <td>c:65806</td>\n",
       "      <td>San Francisco</td>\n",
       "      <td>San Francisco CA 94105</td>\n",
       "      <td>Inhale Digital</td>\n",
       "      <td>...</td>\n",
       "      <td>c:65806</td>\n",
       "      <td>1</td>\n",
       "      <td>1</td>\n",
       "      <td>0</td>\n",
       "      <td>0</td>\n",
       "      <td>0</td>\n",
       "      <td>0</td>\n",
       "      <td>1.0000</td>\n",
       "      <td>1</td>\n",
       "      <td>closed</td>\n",
       "    </tr>\n",
       "    <tr>\n",
       "      <th>4</th>\n",
       "      <td>673fd06d8401e92197c3ffa8</td>\n",
       "      <td>379</td>\n",
       "      <td>CA</td>\n",
       "      <td>37.406914</td>\n",
       "      <td>-122.090370</td>\n",
       "      <td>94043</td>\n",
       "      <td>c:22898</td>\n",
       "      <td>Mountain View</td>\n",
       "      <td>Mountain View CA 94043</td>\n",
       "      <td>Matisse Networks</td>\n",
       "      <td>...</td>\n",
       "      <td>c:22898</td>\n",
       "      <td>0</td>\n",
       "      <td>0</td>\n",
       "      <td>0</td>\n",
       "      <td>1</td>\n",
       "      <td>0</td>\n",
       "      <td>0</td>\n",
       "      <td>3.0000</td>\n",
       "      <td>1</td>\n",
       "      <td>closed</td>\n",
       "    </tr>\n",
       "    <tr>\n",
       "      <th>...</th>\n",
       "      <td>...</td>\n",
       "      <td>...</td>\n",
       "      <td>...</td>\n",
       "      <td>...</td>\n",
       "      <td>...</td>\n",
       "      <td>...</td>\n",
       "      <td>...</td>\n",
       "      <td>...</td>\n",
       "      <td>...</td>\n",
       "      <td>...</td>\n",
       "      <td>...</td>\n",
       "      <td>...</td>\n",
       "      <td>...</td>\n",
       "      <td>...</td>\n",
       "      <td>...</td>\n",
       "      <td>...</td>\n",
       "      <td>...</td>\n",
       "      <td>...</td>\n",
       "      <td>...</td>\n",
       "      <td>...</td>\n",
       "      <td>...</td>\n",
       "    </tr>\n",
       "    <tr>\n",
       "      <th>918</th>\n",
       "      <td>673fd06d8401e92197c4033a</td>\n",
       "      <td>352</td>\n",
       "      <td>CA</td>\n",
       "      <td>37.740594</td>\n",
       "      <td>-122.376471</td>\n",
       "      <td>94107</td>\n",
       "      <td>c:21343</td>\n",
       "      <td>San Francisco</td>\n",
       "      <td></td>\n",
       "      <td>CoTweet</td>\n",
       "      <td>...</td>\n",
       "      <td>c:21343</td>\n",
       "      <td>0</td>\n",
       "      <td>0</td>\n",
       "      <td>1</td>\n",
       "      <td>0</td>\n",
       "      <td>0</td>\n",
       "      <td>0</td>\n",
       "      <td>6.0000</td>\n",
       "      <td>1</td>\n",
       "      <td>acquired</td>\n",
       "    </tr>\n",
       "    <tr>\n",
       "      <th>919</th>\n",
       "      <td>673fd06d8401e92197c4033b</td>\n",
       "      <td>721</td>\n",
       "      <td>MA</td>\n",
       "      <td>42.504817</td>\n",
       "      <td>-71.195611</td>\n",
       "      <td>1803</td>\n",
       "      <td>c:41747</td>\n",
       "      <td>Burlington</td>\n",
       "      <td>Burlington MA 1803</td>\n",
       "      <td>Reef Point Systems</td>\n",
       "      <td>...</td>\n",
       "      <td>c:41747</td>\n",
       "      <td>1</td>\n",
       "      <td>0</td>\n",
       "      <td>0</td>\n",
       "      <td>1</td>\n",
       "      <td>0</td>\n",
       "      <td>0</td>\n",
       "      <td>2.6667</td>\n",
       "      <td>1</td>\n",
       "      <td>closed</td>\n",
       "    </tr>\n",
       "    <tr>\n",
       "      <th>920</th>\n",
       "      <td>673fd06d8401e92197c4033c</td>\n",
       "      <td>557</td>\n",
       "      <td>CA</td>\n",
       "      <td>37.408261</td>\n",
       "      <td>-122.015920</td>\n",
       "      <td>94089</td>\n",
       "      <td>c:31549</td>\n",
       "      <td>Sunnyvale</td>\n",
       "      <td></td>\n",
       "      <td>Paracor Medical</td>\n",
       "      <td>...</td>\n",
       "      <td>c:31549</td>\n",
       "      <td>0</td>\n",
       "      <td>0</td>\n",
       "      <td>0</td>\n",
       "      <td>0</td>\n",
       "      <td>0</td>\n",
       "      <td>1</td>\n",
       "      <td>8.0000</td>\n",
       "      <td>1</td>\n",
       "      <td>closed</td>\n",
       "    </tr>\n",
       "    <tr>\n",
       "      <th>921</th>\n",
       "      <td>673fd06d8401e92197c4033d</td>\n",
       "      <td>589</td>\n",
       "      <td>CA</td>\n",
       "      <td>37.556732</td>\n",
       "      <td>-122.288378</td>\n",
       "      <td>94404</td>\n",
       "      <td>c:33198</td>\n",
       "      <td>San Francisco</td>\n",
       "      <td></td>\n",
       "      <td>Causata</td>\n",
       "      <td>...</td>\n",
       "      <td>c:33198</td>\n",
       "      <td>0</td>\n",
       "      <td>0</td>\n",
       "      <td>1</td>\n",
       "      <td>1</td>\n",
       "      <td>0</td>\n",
       "      <td>0</td>\n",
       "      <td>1.0000</td>\n",
       "      <td>1</td>\n",
       "      <td>acquired</td>\n",
       "    </tr>\n",
       "    <tr>\n",
       "      <th>922</th>\n",
       "      <td>673fd06d8401e92197c4033e</td>\n",
       "      <td>462</td>\n",
       "      <td>CA</td>\n",
       "      <td>37.386778</td>\n",
       "      <td>-121.966277</td>\n",
       "      <td>95054</td>\n",
       "      <td>c:26702</td>\n",
       "      <td>Santa Clara</td>\n",
       "      <td>Santa Clara CA 95054</td>\n",
       "      <td>Asempra Technologies</td>\n",
       "      <td>...</td>\n",
       "      <td>c:26702</td>\n",
       "      <td>0</td>\n",
       "      <td>0</td>\n",
       "      <td>0</td>\n",
       "      <td>1</td>\n",
       "      <td>0</td>\n",
       "      <td>0</td>\n",
       "      <td>3.0000</td>\n",
       "      <td>1</td>\n",
       "      <td>acquired</td>\n",
       "    </tr>\n",
       "  </tbody>\n",
       "</table>\n",
       "<p>923 rows × 49 columns</p>\n",
       "</div>"
      ],
      "text/plain": [
       "                          _id  Unnamed: 0 state_code   latitude   longitude  \\\n",
       "0    673fd06d8401e92197c3ffa4        1005         CA  42.358880  -71.056820   \n",
       "1    673fd06d8401e92197c3ffa5         204         CA  37.238916 -121.973718   \n",
       "2    673fd06d8401e92197c3ffa6        1001         CA  32.901049 -117.192656   \n",
       "3    673fd06d8401e92197c3ffa7        1002         CA  37.779281 -122.419236   \n",
       "4    673fd06d8401e92197c3ffa8         379         CA  37.406914 -122.090370   \n",
       "..                        ...         ...        ...        ...         ...   \n",
       "918  673fd06d8401e92197c4033a         352         CA  37.740594 -122.376471   \n",
       "919  673fd06d8401e92197c4033b         721         MA  42.504817  -71.195611   \n",
       "920  673fd06d8401e92197c4033c         557         CA  37.408261 -122.015920   \n",
       "921  673fd06d8401e92197c4033d         589         CA  37.556732 -122.288378   \n",
       "922  673fd06d8401e92197c4033e         462         CA  37.386778 -121.966277   \n",
       "\n",
       "    zip_code       id           city              Unnamed: 6  \\\n",
       "0      92101   c:6669      San Diego                           \n",
       "1      95032  c:16283      Los Gatos                           \n",
       "2      92121  c:65620      San Diego      San Diego CA 92121   \n",
       "3      94105  c:65806  San Francisco  San Francisco CA 94105   \n",
       "4      94043  c:22898  Mountain View  Mountain View CA 94043   \n",
       "..       ...      ...            ...                     ...   \n",
       "918    94107  c:21343  San Francisco                           \n",
       "919     1803  c:41747     Burlington      Burlington MA 1803   \n",
       "920    94089  c:31549      Sunnyvale                           \n",
       "921    94404  c:33198  San Francisco                           \n",
       "922    95054  c:26702    Santa Clara    Santa Clara CA 95054   \n",
       "\n",
       "                     name  ...  object_id has_VC has_angel has_roundA  \\\n",
       "0             Bandsintown  ...     c:6669      0         1          0   \n",
       "1               TriCipher  ...    c:16283      1         0          0   \n",
       "2                   Plixi  ...    c:65620      0         0          1   \n",
       "3          Inhale Digital  ...    c:65806      1         1          0   \n",
       "4        Matisse Networks  ...    c:22898      0         0          0   \n",
       "..                    ...  ...        ...    ...       ...        ...   \n",
       "918               CoTweet  ...    c:21343      0         0          1   \n",
       "919    Reef Point Systems  ...    c:41747      1         0          0   \n",
       "920       Paracor Medical  ...    c:31549      0         0          0   \n",
       "921               Causata  ...    c:33198      0         0          1   \n",
       "922  Asempra Technologies  ...    c:26702      0         0          0   \n",
       "\n",
       "    has_roundB  has_roundC  has_roundD avg_participants is_top500    status  \n",
       "0            0           0           0           1.0000         0  acquired  \n",
       "1            1           1           1           4.7500         1  acquired  \n",
       "2            0           0           0           4.0000         1  acquired  \n",
       "3            0           0           0           1.0000         1    closed  \n",
       "4            1           0           0           3.0000         1    closed  \n",
       "..         ...         ...         ...              ...       ...       ...  \n",
       "918          0           0           0           6.0000         1  acquired  \n",
       "919          1           0           0           2.6667         1    closed  \n",
       "920          0           0           1           8.0000         1    closed  \n",
       "921          1           0           0           1.0000         1  acquired  \n",
       "922          1           0           0           3.0000         1  acquired  \n",
       "\n",
       "[923 rows x 49 columns]"
      ]
     },
     "execution_count": 11,
     "metadata": {},
     "output_type": "execute_result"
    }
   ],
   "source": [
    "dataframe"
   ]
  },
  {
   "cell_type": "markdown",
   "id": "790fda2d",
   "metadata": {},
   "source": [
    "## Paige's Section"
   ]
  },
  {
   "cell_type": "code",
   "execution_count": 12,
   "id": "24ac421a",
   "metadata": {},
   "outputs": [
    {
     "name": "stdout",
     "output_type": "stream",
     "text": [
      "status\n",
      "acquired    64.68039\n",
      "closed      35.31961\n",
      "Name: proportion, dtype: float64\n"
     ]
    }
   ],
   "source": [
    "# Calculate percentage\n",
    "status_percentage = dataframe['status'].value_counts(normalize=True) * 100\n",
    "\n",
    "# Display the results\n",
    "print(status_percentage)"
   ]
  },
  {
   "cell_type": "code",
   "execution_count": 13,
   "id": "b93088d3",
   "metadata": {},
   "outputs": [
    {
     "name": "stdout",
     "output_type": "stream",
     "text": [
      "{'_id': 'hospitality', 'totalCount': 1, 'acquiredCount': 1, 'acquisition_rate': 1.0}\n",
      "{'_id': 'transportation', 'totalCount': 2, 'acquiredCount': 2, 'acquisition_rate': 1.0}\n",
      "{'_id': 'music', 'totalCount': 6, 'acquiredCount': 6, 'acquisition_rate': 1.0}\n",
      "{'_id': 'health', 'totalCount': 3, 'acquiredCount': 3, 'acquisition_rate': 1.0}\n",
      "{'_id': 'sports', 'totalCount': 1, 'acquiredCount': 1, 'acquisition_rate': 1.0}\n",
      "{'_id': 'news', 'totalCount': 8, 'acquiredCount': 7, 'acquisition_rate': 0.875}\n",
      "{'_id': 'travel', 'totalCount': 8, 'acquiredCount': 7, 'acquisition_rate': 0.875}\n",
      "{'_id': 'analytics', 'totalCount': 19, 'acquiredCount': 16, 'acquisition_rate': 0.8421052631578947}\n",
      "{'_id': 'security', 'totalCount': 19, 'acquiredCount': 15, 'acquisition_rate': 0.7894736842105263}\n",
      "{'_id': 'enterprise', 'totalCount': 73, 'acquiredCount': 56, 'acquisition_rate': 0.7671232876712328}\n",
      "{'_id': 'education', 'totalCount': 4, 'acquiredCount': 3, 'acquisition_rate': 0.75}\n",
      "{'_id': 'advertising', 'totalCount': 62, 'acquiredCount': 45, 'acquisition_rate': 0.7258064516129032}\n",
      "{'_id': 'photo_video', 'totalCount': 7, 'acquiredCount': 5, 'acquisition_rate': 0.7142857142857143}\n",
      "{'_id': 'network_hosting', 'totalCount': 34, 'acquiredCount': 24, 'acquisition_rate': 0.7058823529411765}\n",
      "{'_id': 'semiconductor', 'totalCount': 35, 'acquiredCount': 24, 'acquisition_rate': 0.6857142857142857}\n",
      "{'_id': 'consulting', 'totalCount': 3, 'acquiredCount': 2, 'acquisition_rate': 0.6666666666666666}\n",
      "{'_id': 'finance', 'totalCount': 6, 'acquiredCount': 4, 'acquisition_rate': 0.6666666666666666}\n",
      "{'_id': 'software', 'totalCount': 153, 'acquiredCount': 101, 'acquisition_rate': 0.6601307189542484}\n",
      "{'_id': 'mobile', 'totalCount': 79, 'acquiredCount': 52, 'acquisition_rate': 0.6582278481012658}\n",
      "{'_id': 'biotech', 'totalCount': 34, 'acquiredCount': 22, 'acquisition_rate': 0.6470588235294118}\n",
      "{'_id': 'web', 'totalCount': 144, 'acquiredCount': 93, 'acquisition_rate': 0.6458333333333334}\n",
      "{'_id': 'messaging', 'totalCount': 11, 'acquiredCount': 7, 'acquisition_rate': 0.6363636363636364}\n",
      "{'_id': 'fashion', 'totalCount': 8, 'acquiredCount': 5, 'acquisition_rate': 0.625}\n",
      "{'_id': 'games_video', 'totalCount': 52, 'acquiredCount': 31, 'acquisition_rate': 0.5961538461538461}\n",
      "{'_id': 'search', 'totalCount': 12, 'acquiredCount': 7, 'acquisition_rate': 0.5833333333333334}\n",
      "{'_id': 'social', 'totalCount': 14, 'acquiredCount': 8, 'acquisition_rate': 0.5714285714285714}\n",
      "{'_id': 'medical', 'totalCount': 7, 'acquiredCount': 4, 'acquisition_rate': 0.5714285714285714}\n",
      "{'_id': 'automotive', 'totalCount': 2, 'acquiredCount': 1, 'acquisition_rate': 0.5}\n",
      "{'_id': 'ecommerce', 'totalCount': 25, 'acquiredCount': 11, 'acquisition_rate': 0.44}\n",
      "{'_id': 'cleantech', 'totalCount': 23, 'acquiredCount': 10, 'acquisition_rate': 0.43478260869565216}\n",
      "{'_id': 'hardware', 'totalCount': 27, 'acquiredCount': 11, 'acquisition_rate': 0.4074074074074074}\n",
      "{'_id': 'public_relations', 'totalCount': 25, 'acquiredCount': 10, 'acquisition_rate': 0.4}\n",
      "{'_id': 'real_estate', 'totalCount': 3, 'acquiredCount': 1, 'acquisition_rate': 0.3333333333333333}\n",
      "{'_id': 'other', 'totalCount': 11, 'acquiredCount': 2, 'acquisition_rate': 0.18181818181818182}\n",
      "{'_id': 'manufacturing', 'totalCount': 2, 'acquiredCount': 0, 'acquisition_rate': 0.0}\n"
     ]
    }
   ],
   "source": [
    "sort_acq = [\n",
    "    {\n",
    "        \"$group\": {\n",
    "            \"_id\": \"$category_code\",\n",
    "            \"totalCount\": {\"$sum\": 1},\n",
    "            \"acquiredCount\": {\n",
    "                \"$sum\": {\"$cond\": [{\"$eq\": [\"$status\", \"acquired\"]}, 1, 0]}\n",
    "            }  # Count where status is \"acquired\"\n",
    "        }\n",
    "    },\n",
    "    {\n",
    "        \"$addFields\": {\n",
    "            \"acquisition_rate\": {\"$divide\": [\"$acquiredCount\", \"$totalCount\"]}\n",
    "        } \n",
    "    },\n",
    "    {\n",
    "        \"$sort\": {\"acquisition_rate\": -1}\n",
    "    }\n",
    "]\n",
    "\n",
    "# Execute query\n",
    "try:\n",
    "    result = startup_data.aggregate(sort_acq)\n",
    "\n",
    "    # Print results\n",
    "    for doc in result:\n",
    "        print(doc)\n",
    "\n",
    "except Exception as e:\n",
    "    print(f\"Error: {e}\")"
   ]
  },
  {
   "cell_type": "code",
   "execution_count": 14,
   "id": "cf04d65d",
   "metadata": {},
   "outputs": [
    {
     "data": {
      "image/png": "[encoded data removed]",
      "text/plain": [
       "<Figure size 800x800 with 1 Axes>"
      ]
     },
     "metadata": {},
     "output_type": "display_data"
    }
   ],
   "source": [
    "#Aggregate data for startup outcomes\n",
    "outcomes = [\n",
    "    {\n",
    "        \"$group\": {\n",
    "            \"_id\": \"$status\",  \n",
    "            \"count\": {\"$sum\": 1} \n",
    "        }\n",
    "    }\n",
    "]\n",
    "\n",
    "outcome_results = list(startup_data.aggregate(outcomes))\n",
    "labels = [doc['_id'] for doc in outcome_results] \n",
    "sizes = [doc['count'] for doc in outcome_results] \n",
    "\n",
    "#Creating the pie chart\n",
    "plt.figure(figsize=(8, 8))\n",
    "plt.pie(sizes, labels=labels, autopct='%1.1f%%', startangle=140)\n",
    "plt.title(\"Startup Outcomes Distribution\")\n",
    "plt.axis('equal')  \n",
    "plt.show()"
   ]
  },
  {
   "cell_type": "code",
   "execution_count": 15,
   "id": "4b292257",
   "metadata": {},
   "outputs": [
    {
     "data": {
      "image/png": "[encoded data removed]",
      "text/plain": [
       "<Figure size 1200x600 with 1 Axes>"
      ]
     },
     "metadata": {},
     "output_type": "display_data"
    }
   ],
   "source": [
    "#Aggregate data for acquisition status\n",
    "acq_rates = [\n",
    "    {\n",
    "        \"$group\": {\n",
    "            \"_id\": \"$category_code\",\n",
    "            \"totalCount\": {\"$sum\": 1},\n",
    "            \"acquiredCount\": {\n",
    "                \"$sum\": {\"$cond\": [{\"$eq\": [\"$status\", \"acquired\"]}, 1, 0]}\n",
    "            }  # Count where status is \"acquired\"\n",
    "        }\n",
    "    },\n",
    "    {\n",
    "        \"$addFields\": {\n",
    "            \"acquisition_rate\": {\"$divide\": [\"$acquiredCount\", \"$totalCount\"]}\n",
    "        }  # Calculate acquisition rate\n",
    "    },\n",
    "    {\n",
    "        \"$sort\": {\"acquisition_rate\": -1}\n",
    "    }\n",
    "]\n",
    "\n",
    "result = list(startup_data.aggregate(acq_rates))\n",
    "\n",
    "categories = [doc['_id'] for doc in result]  # Categories\n",
    "acquisition_rates = [doc['acquisition_rate'] for doc in result]\n",
    "\n",
    "#Create the bar chart\n",
    "plt.figure(figsize=(12, 6))\n",
    "plt.bar(categories, acquisition_rates)\n",
    "plt.xticks(rotation=45, ha='right') \n",
    "plt.title(\"Acquisition Rates by Category\")\n",
    "plt.xlabel(\"Category\")\n",
    "plt.ylabel(\"Acquisition Rate\")\n",
    "plt.tight_layout() \n",
    "plt.show()"
   ]
  },
  {
   "cell_type": "code",
   "execution_count": 33,
   "id": "86831bbf",
   "metadata": {},
   "outputs": [
    {
     "data": {
      "application/vnd.plotly.v1+json": {
       "config": {
        "plotlyServerURL": "https://plot.ly"
       },
       "data": [
        {
         "hovertemplate": "investment_type=has_VC<br>Startup Type=%{x}<br>Acquisition Rate=%{y}<extra></extra>",
         "legendgroup": "has_VC",
         "marker": {
          "color": "#636efa",
          "symbol": "circle"
         },
         "mode": "markers",
         "name": "has_VC",
         "orientation": "v",
         "showlegend": true,
         "type": "scatter",
         "x": [
          "network_hosting",
          "network_hosting",
          "software",
          "games_video",
          "network_hosting",
          "biotech",
          "music",
          "web",
          "biotech",
          "ecommerce",
          "ecommerce",
          "medical",
          "other",
          "enterprise",
          "ecommerce",
          "search",
          "web",
          "web",
          "enterprise",
          "web",
          "security",
          "medical",
          "network_hosting",
          "web",
          "music",
          "enterprise",
          "medical",
          "network_hosting",
          "web",
          "finance",
          "web",
          "web",
          "biotech",
          "games_video",
          "software",
          "consulting",
          "photo_video",
          "education",
          "semiconductor",
          "web",
          "hardware",
          "enterprise",
          "travel",
          "security",
          "public_relations",
          "mobile",
          "hardware",
          "games_video",
          "network_hosting",
          "software",
          "enterprise",
          "enterprise",
          "biotech",
          "software",
          "mobile",
          "education",
          "enterprise",
          "analytics",
          "software",
          "news",
          "analytics",
          "mobile",
          "security",
          "software",
          "biotech",
          "semiconductor",
          "advertising",
          "consulting",
          "social",
          "cleantech",
          "advertising",
          "mobile",
          "cleantech",
          "analytics",
          "advertising",
          "mobile",
          "automotive",
          "semiconductor",
          "public_relations",
          "hardware",
          "software",
          "semiconductor",
          "transportation",
          "enterprise",
          "cleantech",
          "mobile",
          "public_relations",
          "mobile",
          "advertising",
          "advertising",
          "photo_video",
          "semiconductor",
          "advertising",
          "public_relations",
          "cleantech",
          "semiconductor",
          "social",
          "travel",
          "advertising",
          "hardware",
          "semiconductor",
          "software",
          "mobile",
          "semiconductor",
          "semiconductor",
          "advertising",
          "mobile",
          "advertising",
          "enterprise",
          "hardware",
          "news",
          "mobile",
          "real_estate",
          "music",
          "hardware",
          "cleantech",
          "security",
          "mobile",
          "network_hosting",
          "mobile",
          "security",
          "biotech",
          "games_video",
          "enterprise",
          "games_video",
          "enterprise",
          "software",
          "ecommerce",
          "health",
          "software",
          "mobile",
          "web",
          "security",
          "software",
          "fashion",
          "games_video",
          "biotech",
          "software",
          "enterprise",
          "analytics",
          "games_video",
          "software",
          "hardware",
          "enterprise",
          "enterprise",
          "ecommerce"
         ],
         "xaxis": "x",
         "y": [
          0.6666666666666666,
          1,
          0,
          1,
          1,
          0,
          1,
          1,
          0.5,
          1,
          0,
          0.5,
          0,
          0.5,
          0,
          1,
          1,
          0.5,
          0.25,
          0.6,
          0,
          1,
          1,
          1,
          1,
          0.5,
          0,
          1,
          0.6666666666666666,
          0.5,
          0.5833333333333334,
          0,
          0.3333333333333333,
          0,
          0.5,
          0,
          0,
          1,
          0.6666666666666666,
          1,
          0.5,
          1,
          0.5,
          1,
          0,
          1,
          1,
          1,
          1,
          0.3888888888888889,
          1,
          1,
          0,
          1,
          0.5,
          0,
          1,
          1,
          1,
          0.5,
          0.5,
          1,
          1,
          0.8,
          0,
          1,
          0,
          1,
          1,
          0,
          0.6666666666666666,
          1,
          1,
          1,
          1,
          1,
          0,
          1,
          1,
          0.5,
          0,
          1,
          1,
          1,
          0,
          0.3333333333333333,
          0.3333333333333333,
          1,
          1,
          1,
          0.5,
          0.25,
          0.75,
          0.5,
          0.3333333333333333,
          0.3333333333333333,
          0.5,
          1,
          0.5,
          0,
          1,
          1,
          0.6666666666666666,
          1,
          1,
          1,
          0.25,
          0,
          1,
          1,
          1,
          1,
          1,
          1,
          1,
          0.6666666666666666,
          1,
          1,
          1,
          0.2222222222222222,
          1,
          1,
          0.5,
          0,
          1,
          1,
          0.8,
          0,
          1,
          0,
          0.5,
          1,
          0,
          0.8333333333333334,
          1,
          0,
          1,
          0.6666666666666666,
          1,
          1,
          0.3333333333333333,
          1,
          0,
          1,
          0.6666666666666666,
          0.5
         ],
         "yaxis": "y"
        },
        {
         "hovertemplate": "investment_type=has_angel<br>Startup Type=%{x}<br>Acquisition Rate=%{y}<extra></extra>",
         "legendgroup": "has_angel",
         "marker": {
          "color": "#EF553B",
          "symbol": "circle"
         },
         "mode": "markers",
         "name": "has_angel",
         "orientation": "v",
         "showlegend": true,
         "type": "scatter",
         "x": [
          "mobile",
          "public_relations",
          "travel",
          "social",
          "health",
          "sports",
          "music",
          "web",
          "software",
          "travel",
          "ecommerce",
          "messaging",
          "news",
          "social",
          "mobile",
          "photo_video",
          "web",
          "public_relations",
          "mobile",
          "enterprise",
          "education",
          "music",
          "mobile",
          "messaging",
          "cleantech",
          "games_video",
          "software",
          "photo_video",
          "advertising",
          "web",
          "messaging",
          "games_video",
          "network_hosting",
          "web",
          "enterprise",
          "hospitality",
          "web",
          "biotech",
          "education",
          "analytics",
          "analytics",
          "software",
          "fashion",
          "news",
          "advertising",
          "enterprise",
          "advertising",
          "analytics",
          "network_hosting",
          "network_hosting",
          "search",
          "security",
          "mobile",
          "enterprise",
          "ecommerce",
          "software",
          "fashion",
          "real_estate",
          "games_video",
          "advertising",
          "network_hosting",
          "security",
          "enterprise",
          "social",
          "travel",
          "web",
          "games_video",
          "network_hosting",
          "software",
          "music",
          "ecommerce",
          "enterprise",
          "travel",
          "hardware",
          "software",
          "mobile",
          "games_video",
          "ecommerce",
          "games_video",
          "advertising",
          "advertising",
          "analytics",
          "enterprise"
         ],
         "xaxis": "x2",
         "y": [
          0.42857142857142855,
          0,
          1,
          1,
          1,
          1,
          1,
          1,
          0.6666666666666666,
          1,
          1,
          0.5,
          1,
          0.3333333333333333,
          1,
          1,
          0.5,
          0,
          0.6,
          0.25,
          1,
          1,
          1,
          0.5,
          0,
          0,
          0.5,
          0,
          1,
          0.4722222222222222,
          1,
          1,
          1,
          0.7058823529411765,
          1,
          1,
          1,
          1,
          0,
          0.5,
          1,
          1,
          1,
          1,
          0.375,
          0.8,
          0,
          0.6666666666666666,
          1,
          1,
          1,
          1,
          1,
          1,
          0.16666666666666666,
          0,
          0,
          0,
          0,
          1,
          0,
          0,
          0.6,
          0.5,
          1,
          1,
          0.25,
          0.3333333333333333,
          1,
          1,
          0.5,
          1,
          1,
          1,
          1,
          0.2222222222222222,
          0.6666666666666666,
          0,
          1,
          1,
          1,
          1,
          1
         ],
         "yaxis": "y2"
        },
        {
         "hovertemplate": "investment_type=has_roundA<br>Startup Type=%{x}<br>Acquisition Rate=%{y}<extra></extra>",
         "legendgroup": "has_roundA",
         "marker": {
          "color": "#00cc96",
          "symbol": "circle"
         },
         "mode": "markers",
         "name": "has_roundA",
         "orientation": "v",
         "showlegend": true,
         "type": "scatter",
         "x": [
          "photo_video",
          "education",
          "software",
          "public_relations",
          "social",
          "enterprise",
          "network_hosting",
          "public_relations",
          "biotech",
          "automotive",
          "health",
          "messaging",
          "fashion",
          "music",
          "social",
          "travel",
          "ecommerce",
          "cleantech",
          "advertising",
          "photo_video",
          "messaging",
          "hardware",
          "fashion",
          "mobile",
          "analytics",
          "ecommerce",
          "search",
          "mobile",
          "photo_video",
          "web",
          "semiconductor",
          "games_video",
          "mobile",
          "web",
          "education",
          "music",
          "medical",
          "mobile",
          "web",
          "advertising",
          "transportation",
          "finance",
          "semiconductor",
          "cleantech",
          "consulting",
          "advertising",
          "education",
          "web",
          "hardware",
          "enterprise",
          "games_video",
          "enterprise",
          "travel",
          "advertising",
          "hardware",
          "games_video",
          "semiconductor",
          "network_hosting",
          "web",
          "games_video",
          "enterprise",
          "network_hosting",
          "biotech",
          "hospitality",
          "advertising",
          "web",
          "biotech",
          "social",
          "analytics",
          "analytics",
          "web",
          "enterprise",
          "software",
          "biotech",
          "games_video",
          "messaging",
          "enterprise",
          "fashion",
          "software",
          "mobile",
          "news",
          "biotech",
          "software",
          "web",
          "messaging",
          "other",
          "web",
          "enterprise",
          "consulting",
          "social",
          "search",
          "finance",
          "network_hosting",
          "security",
          "network_hosting",
          "biotech",
          "security",
          "finance",
          "mobile",
          "cleantech",
          "analytics",
          "security",
          "mobile",
          "mobile",
          "enterprise",
          "software",
          "network_hosting",
          "software",
          "travel",
          "semiconductor",
          "software",
          "advertising",
          "search",
          "advertising",
          "network_hosting",
          "other",
          "photo_video",
          "semiconductor",
          "advertising",
          "ecommerce",
          "software",
          "advertising",
          "semiconductor",
          "web",
          "mobile",
          "other",
          "news",
          "ecommerce",
          "mobile",
          "ecommerce",
          "ecommerce",
          "hardware",
          "network_hosting",
          "web",
          "news",
          "mobile",
          "ecommerce",
          "cleantech",
          "cleantech",
          "mobile",
          "security",
          "biotech",
          "games_video",
          "music",
          "biotech",
          "enterprise",
          "games_video",
          "enterprise",
          "games_video",
          "health",
          "manufacturing",
          "mobile",
          "hardware",
          "search",
          "enterprise",
          "web",
          "games_video",
          "games_video",
          "security",
          "finance",
          "software",
          "analytics",
          "advertising",
          "fashion",
          "games_video",
          "analytics",
          "analytics",
          "software",
          "hardware",
          "enterprise",
          "enterprise",
          "security",
          "mobile"
         ],
         "xaxis": "x3",
         "y": [
          1,
          1,
          0,
          0,
          1,
          1,
          1,
          0,
          0,
          1,
          1,
          0,
          0,
          1,
          1,
          1,
          1,
          1,
          0.8,
          1,
          0.5,
          1,
          1,
          0.625,
          1,
          0,
          1,
          1,
          1,
          0.5,
          0,
          1,
          0.6,
          0.6,
          1,
          1,
          0,
          1,
          0.6666666666666666,
          0.75,
          1,
          0.5,
          1,
          0.4,
          0,
          1,
          1,
          1,
          0.5,
          0.6666666666666666,
          1,
          1,
          0.5,
          0.75,
          1,
          1,
          1,
          1,
          0.7058823529411765,
          0.6666666666666666,
          1,
          0.6666666666666666,
          0,
          1,
          1,
          1,
          1,
          1,
          0.5,
          1,
          1,
          1,
          1,
          1,
          1,
          1,
          0.75,
          1,
          0.5555555555555556,
          1,
          1,
          1,
          0.8,
          1,
          1,
          0,
          0.5833333333333334,
          0.8,
          1,
          1,
          0.5,
          1,
          1,
          1,
          1,
          1,
          1,
          1,
          1,
          1,
          1,
          1,
          1,
          1,
          1,
          0.65,
          1,
          0,
          1,
          1,
          0.7,
          1,
          0.5,
          1,
          0,
          0,
          0.5,
          0.25,
          0.75,
          1,
          1,
          0.5,
          1,
          1,
          0.6666666666666666,
          0,
          1,
          0.6,
          0.25,
          1,
          0.5,
          1,
          0.5,
          0.8947368421052632,
          1,
          1,
          1,
          0.6666666666666666,
          0.5,
          1,
          1,
          1,
          0.6666666666666666,
          1,
          1,
          0,
          1,
          1,
          0.4444444444444444,
          1,
          0,
          1,
          0.6666666666666666,
          0,
          0.875,
          1,
          1,
          1,
          0,
          1,
          0.8333333333333334,
          1,
          1,
          1,
          0,
          1,
          1,
          1,
          0,
          1,
          0.6666666666666666,
          0,
          0.75
         ],
         "yaxis": "y3"
        },
        {
         "hovertemplate": "investment_type=has_roundB<br>Startup Type=%{x}<br>Acquisition Rate=%{y}<extra></extra>",
         "legendgroup": "has_roundB",
         "marker": {
          "color": "#ab63fa",
          "symbol": "circle"
         },
         "mode": "markers",
         "name": "has_roundB",
         "orientation": "v",
         "showlegend": true,
         "type": "scatter",
         "x": [
          "education",
          "hardware",
          "travel",
          "games_video",
          "enterprise",
          "network_hosting",
          "cleantech",
          "music",
          "cleantech",
          "advertising",
          "ecommerce",
          "medical",
          "photo_video",
          "fashion",
          "fashion",
          "mobile",
          "web",
          "photo_video",
          "games_video",
          "advertising",
          "semiconductor",
          "photo_video",
          "security",
          "medical",
          "network_hosting",
          "enterprise",
          "mobile",
          "network_hosting",
          "web",
          "advertising",
          "transportation",
          "web",
          "biotech",
          "semiconductor",
          "semiconductor",
          "web",
          "messaging",
          "education",
          "enterprise",
          "games_video",
          "enterprise",
          "hardware",
          "games_video",
          "semiconductor",
          "games_video",
          "enterprise",
          "network_hosting",
          "software",
          "advertising",
          "mobile",
          "advertising",
          "web",
          "social",
          "cleantech",
          "analytics",
          "hardware",
          "web",
          "analytics",
          "biotech",
          "enterprise",
          "messaging",
          "software",
          "biotech",
          "web",
          "biotech",
          "messaging",
          "finance",
          "other",
          "semiconductor",
          "consulting",
          "social",
          "search",
          "software",
          "finance",
          "network_hosting",
          "biotech",
          "finance",
          "software",
          "mobile",
          "analytics",
          "advertising",
          "security",
          "mobile",
          "mobile",
          "enterprise",
          "software",
          "network_hosting",
          "software",
          "travel",
          "semiconductor",
          "transportation",
          "search",
          "enterprise",
          "cleantech",
          "software",
          "mobile",
          "advertising",
          "other",
          "games_video",
          "network_hosting",
          "advertising",
          "network_hosting",
          "other",
          "public_relations",
          "ecommerce",
          "web",
          "software",
          "other",
          "medical",
          "advertising",
          "hardware",
          "semiconductor",
          "web",
          "software",
          "mobile",
          "semiconductor",
          "semiconductor",
          "other",
          "news",
          "public_relations",
          "security",
          "ecommerce",
          "advertising",
          "enterprise",
          "enterprise",
          "web",
          "news",
          "enterprise",
          "hardware",
          "ecommerce",
          "cleantech",
          "security",
          "cleantech",
          "mobile",
          "biotech",
          "biotech",
          "enterprise",
          "games_video",
          "enterprise",
          "health",
          "mobile",
          "software",
          "hardware",
          "search",
          "mobile",
          "enterprise",
          "web",
          "games_video",
          "games_video",
          "security",
          "advertising",
          "finance",
          "software",
          "analytics",
          "advertising",
          "games_video",
          "fashion",
          "software",
          "enterprise",
          "analytics",
          "analytics",
          "software",
          "hardware",
          "enterprise",
          "security",
          "mobile"
         ],
         "xaxis": "x4",
         "y": [
          1,
          1,
          1,
          1,
          1,
          1,
          0.5,
          1,
          1,
          0.8,
          0,
          0.5,
          1,
          1,
          1,
          1,
          1,
          1,
          1,
          1,
          0.3333333333333333,
          1,
          0,
          1,
          1,
          0.5,
          1,
          1,
          0.6666666666666666,
          0.75,
          1,
          0,
          0.3333333333333333,
          1,
          1,
          1,
          1,
          1,
          0.6666666666666666,
          1,
          1,
          1,
          1,
          1,
          0.6666666666666666,
          1,
          0.6666666666666666,
          1,
          1,
          0.5,
          0.6666666666666666,
          1,
          1,
          1,
          1,
          0,
          1,
          1,
          1,
          1,
          1,
          0.375,
          0.5,
          1,
          0,
          1,
          0,
          0,
          1,
          1,
          1,
          0.5,
          1,
          1,
          1,
          1,
          1,
          1,
          1,
          1,
          1,
          1,
          1,
          1,
          1,
          0.65,
          1,
          0,
          1,
          1,
          1,
          1,
          1,
          0,
          0.7,
          1,
          1,
          1,
          0,
          0.6666666666666666,
          1,
          0,
          0,
          0.5,
          1,
          1,
          1,
          1,
          0,
          0.5,
          0,
          1,
          1,
          1,
          0.6666666666666666,
          1,
          1,
          0,
          1,
          0.5,
          1,
          1,
          0,
          1,
          1,
          0.8947368421052632,
          1,
          1,
          0,
          1,
          0.6666666666666666,
          1,
          0.5,
          1,
          1,
          1,
          0,
          1,
          1,
          1,
          1,
          0,
          0.6666666666666666,
          0,
          0.5,
          0.875,
          1,
          1,
          1,
          0,
          1,
          1,
          0.8333333333333334,
          1,
          1,
          1,
          1,
          0.6666666666666666,
          1,
          1,
          1,
          1,
          0,
          1,
          0,
          0.75
         ],
         "yaxis": "y4"
        },
        {
         "hovertemplate": "investment_type=has_roundC<br>Startup Type=%{x}<br>Acquisition Rate=%{y}<extra></extra>",
         "legendgroup": "has_roundC",
         "marker": {
          "color": "#FFA15A",
          "symbol": "circle"
         },
         "mode": "markers",
         "name": "has_roundC",
         "orientation": "v",
         "showlegend": true,
         "type": "scatter",
         "x": [
          "hardware",
          "education",
          "network_hosting",
          "software",
          "hardware",
          "travel",
          "semiconductor",
          "enterprise",
          "public_relations",
          "biotech",
          "cleantech",
          "advertising",
          "ecommerce",
          "medical",
          "fashion",
          "hardware",
          "mobile",
          "games_video",
          "web",
          "network_hosting",
          "transportation",
          "web",
          "semiconductor",
          "web",
          "education",
          "web",
          "hardware",
          "enterprise",
          "games_video",
          "music",
          "security",
          "public_relations",
          "mobile",
          "games_video",
          "semiconductor",
          "enterprise",
          "software",
          "advertising",
          "advertising",
          "web",
          "biotech",
          "cleantech",
          "analytics",
          "hardware",
          "consulting",
          "web",
          "enterprise",
          "analytics",
          "biotech",
          "enterprise",
          "games_video",
          "mobile",
          "biotech",
          "security",
          "web",
          "biotech",
          "biotech",
          "messaging",
          "finance",
          "other",
          "consulting",
          "social",
          "software",
          "network_hosting",
          "security",
          "cleantech",
          "medical",
          "software",
          "mobile",
          "analytics",
          "mobile",
          "mobile",
          "automotive",
          "semiconductor",
          "network_hosting",
          "travel",
          "enterprise",
          "software",
          "mobile",
          "advertising",
          "advertising",
          "software",
          "other",
          "semiconductor",
          "semiconductor",
          "software",
          "semiconductor",
          "advertising",
          "news",
          "ecommerce",
          "advertising",
          "enterprise",
          "news",
          "ecommerce",
          "enterprise",
          "cleantech",
          "cleantech",
          "security",
          "mobile",
          "advertising",
          "semiconductor",
          "search",
          "biotech",
          "enterprise",
          "other",
          "enterprise",
          "software",
          "health",
          "software",
          "mobile",
          "public_relations",
          "software",
          "search",
          "mobile",
          "web",
          "games_video",
          "games_video",
          "security",
          "finance",
          "fashion",
          "mobile",
          "software",
          "hardware",
          "enterprise",
          "security"
         ],
         "xaxis": "x5",
         "y": [
          0,
          1,
          1,
          0,
          0,
          1,
          1,
          1,
          1,
          0,
          1,
          0.8,
          0,
          0.5,
          1,
          1,
          1,
          1,
          1,
          1,
          1,
          0,
          1,
          1,
          1,
          1,
          0.5,
          0.6666666666666666,
          1,
          1,
          1,
          0,
          1,
          1,
          1,
          1,
          1,
          1,
          0.6666666666666666,
          1,
          1,
          1,
          1,
          0,
          1,
          1,
          1,
          1,
          1,
          1,
          1,
          1,
          1,
          1,
          1,
          1,
          0,
          1,
          0,
          0,
          1,
          1,
          1,
          1,
          1,
          0,
          1,
          1,
          1,
          1,
          1,
          1,
          0,
          1,
          1,
          1,
          1,
          0.7,
          1,
          1,
          1,
          1,
          1,
          0.3333333333333333,
          1,
          0.5,
          1,
          1,
          1,
          1,
          0,
          1,
          1,
          1,
          0.6666666666666666,
          0,
          0.6666666666666666,
          1,
          1,
          1,
          0.6,
          1,
          1,
          0,
          0,
          1,
          0.8,
          1,
          0.6666666666666666,
          1,
          0.6,
          0,
          0,
          0.5,
          1,
          1,
          1,
          0,
          1,
          1,
          1,
          1,
          0,
          1,
          0
         ],
         "yaxis": "y5"
        },
        {
         "hovertemplate": "investment_type=has_roundD<br>Startup Type=%{x}<br>Acquisition Rate=%{y}<extra></extra>",
         "legendgroup": "has_roundD",
         "marker": {
          "color": "#19d3f3",
          "symbol": "circle"
         },
         "mode": "markers",
         "name": "has_roundD",
         "orientation": "v",
         "showlegend": true,
         "type": "scatter",
         "x": [
          "hardware",
          "network_hosting",
          "hardware",
          "semiconductor",
          "public_relations",
          "security",
          "public_relations",
          "games_video",
          "enterprise",
          "mobile",
          "software",
          "advertising",
          "web",
          "biotech",
          "medical",
          "cleantech",
          "web",
          "software",
          "mobile",
          "mobile",
          "biotech",
          "security",
          "biotech",
          "biotech",
          "software",
          "finance",
          "network_hosting",
          "mobile",
          "mobile",
          "public_relations",
          "transportation",
          "enterprise",
          "advertising",
          "other",
          "software",
          "semiconductor",
          "other",
          "semiconductor",
          "software",
          "semiconductor",
          "news",
          "web",
          "mobile",
          "software",
          "ecommerce",
          "security",
          "software",
          "mobile",
          "network_hosting",
          "games_video",
          "search",
          "semiconductor",
          "biotech",
          "enterprise",
          "search",
          "mobile",
          "web",
          "games_video",
          "security",
          "finance",
          "enterprise",
          "biotech",
          "enterprise",
          "enterprise"
         ],
         "xaxis": "x6",
         "y": [
          0,
          1,
          1,
          1,
          1,
          1,
          0.6666666666666666,
          1,
          0.6666666666666666,
          1,
          1,
          1,
          1,
          1,
          1,
          1,
          1,
          1,
          1,
          1,
          1,
          1,
          0.5,
          0,
          1,
          1,
          1,
          1,
          1,
          1,
          1,
          1,
          1,
          1,
          1,
          0.3333333333333333,
          0,
          1,
          0.5,
          1,
          1,
          0,
          1,
          1,
          1,
          1,
          1,
          1,
          1,
          0.5,
          1,
          1,
          1,
          1,
          0,
          0.5,
          1,
          1,
          0,
          1,
          1,
          1,
          1,
          1
         ],
         "yaxis": "y6"
        }
       ],
       "layout": {
        "annotations": [
         {
          "font": {},
          "showarrow": false,
          "text": "has_VC",
          "x": 0.075,
          "xanchor": "center",
          "xref": "paper",
          "y": 1,
          "yanchor": "bottom",
          "yref": "paper"
         },
         {
          "font": {},
          "showarrow": false,
          "text": "has_angel",
          "x": 0.24499999999999997,
          "xanchor": "center",
          "xref": "paper",
          "y": 1,
          "yanchor": "bottom",
          "yref": "paper"
         },
         {
          "font": {},
          "showarrow": false,
          "text": "has_roundA",
          "x": 0.415,
          "xanchor": "center",
          "xref": "paper",
          "y": 1,
          "yanchor": "bottom",
          "yref": "paper"
         },
         {
          "font": {},
          "showarrow": false,
          "text": "has_roundB",
          "x": 0.585,
          "xanchor": "center",
          "xref": "paper",
          "y": 1,
          "yanchor": "bottom",
          "yref": "paper"
         },
         {
          "font": {},
          "showarrow": false,
          "text": "has_roundC",
          "x": 0.7549999999999999,
          "xanchor": "center",
          "xref": "paper",
          "y": 1,
          "yanchor": "bottom",
          "yref": "paper"
         },
         {
          "font": {},
          "showarrow": false,
          "text": "has_roundD",
          "x": 0.925,
          "xanchor": "center",
          "xref": "paper",
          "y": 1,
          "yanchor": "bottom",
          "yref": "paper"
         }
        ],
        "legend": {
         "title": {
          "text": "investment_type"
         },
         "tracegroupgap": 0
        },
        "template": {
         "data": {
          "bar": [
           {
            "error_x": {
             "color": "#2a3f5f"
            },
            "error_y": {
             "color": "#2a3f5f"
            },
            "marker": {
             "line": {
              "color": "#E5ECF6",
              "width": 0.5
             },
             "pattern": {
              "fillmode": "overlay",
              "size": 10,
              "solidity": 0.2
             }
            },
            "type": "bar"
           }
          ],
          "barpolar": [
           {
            "marker": {
             "line": {
              "color": "#E5ECF6",
              "width": 0.5
             },
             "pattern": {
              "fillmode": "overlay",
              "size": 10,
              "solidity": 0.2
             }
            },
            "type": "barpolar"
           }
          ],
          "carpet": [
           {
            "aaxis": {
             "endlinecolor": "#2a3f5f",
             "gridcolor": "white",
             "linecolor": "white",
             "minorgridcolor": "white",
             "startlinecolor": "#2a3f5f"
            },
            "baxis": {
             "endlinecolor": "#2a3f5f",
             "gridcolor": "white",
             "linecolor": "white",
             "minorgridcolor": "white",
             "startlinecolor": "#2a3f5f"
            },
            "type": "carpet"
           }
          ],
          "choropleth": [
           {
            "colorbar": {
             "outlinewidth": 0,
             "ticks": ""
            },
            "type": "choropleth"
           }
          ],
          "contour": [
           {
            "colorbar": {
             "outlinewidth": 0,
             "ticks": ""
            },
            "colorscale": [
             [
              0,
              "#0d0887"
             ],
             [
              0.1111111111111111,
              "#46039f"
             ],
             [
              0.2222222222222222,
              "#7201a8"
             ],
             [
              0.3333333333333333,
              "#9c179e"
             ],
             [
              0.4444444444444444,
              "#bd3786"
             ],
             [
              0.5555555555555556,
              "#d8576b"
             ],
             [
              0.6666666666666666,
              "#ed7953"
             ],
             [
              0.7777777777777778,
              "#fb9f3a"
             ],
             [
              0.8888888888888888,
              "#fdca26"
             ],
             [
              1,
              "#f0f921"
             ]
            ],
            "type": "contour"
           }
          ],
          "contourcarpet": [
           {
            "colorbar": {
             "outlinewidth": 0,
             "ticks": ""
            },
            "type": "contourcarpet"
           }
          ],
          "heatmap": [
           {
            "colorbar": {
             "outlinewidth": 0,
             "ticks": ""
            },
            "colorscale": [
             [
              0,
              "#0d0887"
             ],
             [
              0.1111111111111111,
              "#46039f"
             ],
             [
              0.2222222222222222,
              "#7201a8"
             ],
             [
              0.3333333333333333,
              "#9c179e"
             ],
             [
              0.4444444444444444,
              "#bd3786"
             ],
             [
              0.5555555555555556,
              "#d8576b"
             ],
             [
              0.6666666666666666,
              "#ed7953"
             ],
             [
              0.7777777777777778,
              "#fb9f3a"
             ],
             [
              0.8888888888888888,
              "#fdca26"
             ],
             [
              1,
              "#f0f921"
             ]
            ],
            "type": "heatmap"
           }
          ],
          "heatmapgl": [
           {
            "colorbar": {
             "outlinewidth": 0,
             "ticks": ""
            },
            "colorscale": [
             [
              0,
              "#0d0887"
             ],
             [
              0.1111111111111111,
              "#46039f"
             ],
             [
              0.2222222222222222,
              "#7201a8"
             ],
             [
              0.3333333333333333,
              "#9c179e"
             ],
             [
              0.4444444444444444,
              "#bd3786"
             ],
             [
              0.5555555555555556,
              "#d8576b"
             ],
             [
              0.6666666666666666,
              "#ed7953"
             ],
             [
              0.7777777777777778,
              "#fb9f3a"
             ],
             [
              0.8888888888888888,
              "#fdca26"
             ],
             [
              1,
              "#f0f921"
             ]
            ],
            "type": "heatmapgl"
           }
          ],
          "histogram": [
           {
            "marker": {
             "pattern": {
              "fillmode": "overlay",
              "size": 10,
              "solidity": 0.2
             }
            },
            "type": "histogram"
           }
          ],
          "histogram2d": [
           {
            "colorbar": {
             "outlinewidth": 0,
             "ticks": ""
            },
            "colorscale": [
             [
              0,
              "#0d0887"
             ],
             [
              0.1111111111111111,
              "#46039f"
             ],
             [
              0.2222222222222222,
              "#7201a8"
             ],
             [
              0.3333333333333333,
              "#9c179e"
             ],
             [
              0.4444444444444444,
              "#bd3786"
             ],
             [
              0.5555555555555556,
              "#d8576b"
             ],
             [
              0.6666666666666666,
              "#ed7953"
             ],
             [
              0.7777777777777778,
              "#fb9f3a"
             ],
             [
              0.8888888888888888,
              "#fdca26"
             ],
             [
              1,
              "#f0f921"
             ]
            ],
            "type": "histogram2d"
           }
          ],
          "histogram2dcontour": [
           {
            "colorbar": {
             "outlinewidth": 0,
             "ticks": ""
            },
            "colorscale": [
             [
              0,
              "#0d0887"
             ],
             [
              0.1111111111111111,
              "#46039f"
             ],
             [
              0.2222222222222222,
              "#7201a8"
             ],
             [
              0.3333333333333333,
              "#9c179e"
             ],
             [
              0.4444444444444444,
              "#bd3786"
             ],
             [
              0.5555555555555556,
              "#d8576b"
             ],
             [
              0.6666666666666666,
              "#ed7953"
             ],
             [
              0.7777777777777778,
              "#fb9f3a"
             ],
             [
              0.8888888888888888,
              "#fdca26"
             ],
             [
              1,
              "#f0f921"
             ]
            ],
            "type": "histogram2dcontour"
           }
          ],
          "mesh3d": [
           {
            "colorbar": {
             "outlinewidth": 0,
             "ticks": ""
            },
            "type": "mesh3d"
           }
          ],
          "parcoords": [
           {
            "line": {
             "colorbar": {
              "outlinewidth": 0,
              "ticks": ""
             }
            },
            "type": "parcoords"
           }
          ],
          "pie": [
           {
            "automargin": true,
            "type": "pie"
           }
          ],
          "scatter": [
           {
            "fillpattern": {
             "fillmode": "overlay",
             "size": 10,
             "solidity": 0.2
            },
            "type": "scatter"
           }
          ],
          "scatter3d": [
           {
            "line": {
             "colorbar": {
              "outlinewidth": 0,
              "ticks": ""
             }
            },
            "marker": {
             "colorbar": {
              "outlinewidth": 0,
              "ticks": ""
             }
            },
            "type": "scatter3d"
           }
          ],
          "scattercarpet": [
           {
            "marker": {
             "colorbar": {
              "outlinewidth": 0,
              "ticks": ""
             }
            },
            "type": "scattercarpet"
           }
          ],
          "scattergeo": [
           {
            "marker": {
             "colorbar": {
              "outlinewidth": 0,
              "ticks": ""
             }
            },
            "type": "scattergeo"
           }
          ],
          "scattergl": [
           {
            "marker": {
             "colorbar": {
              "outlinewidth": 0,
              "ticks": ""
             }
            },
            "type": "scattergl"
           }
          ],
          "scattermapbox": [
           {
            "marker": {
             "colorbar": {
              "outlinewidth": 0,
              "ticks": ""
             }
            },
            "type": "scattermapbox"
           }
          ],
          "scatterpolar": [
           {
            "marker": {
             "colorbar": {
              "outlinewidth": 0,
              "ticks": ""
             }
            },
            "type": "scatterpolar"
           }
          ],
          "scatterpolargl": [
           {
            "marker": {
             "colorbar": {
              "outlinewidth": 0,
              "ticks": ""
             }
            },
            "type": "scatterpolargl"
           }
          ],
          "scatterternary": [
           {
            "marker": {
             "colorbar": {
              "outlinewidth": 0,
              "ticks": ""
             }
            },
            "type": "scatterternary"
           }
          ],
          "surface": [
           {
            "colorbar": {
             "outlinewidth": 0,
             "ticks": ""
            },
            "colorscale": [
             [
              0,
              "#0d0887"
             ],
             [
              0.1111111111111111,
              "#46039f"
             ],
             [
              0.2222222222222222,
              "#7201a8"
             ],
             [
              0.3333333333333333,
              "#9c179e"
             ],
             [
              0.4444444444444444,
              "#bd3786"
             ],
             [
              0.5555555555555556,
              "#d8576b"
             ],
             [
              0.6666666666666666,
              "#ed7953"
             ],
             [
              0.7777777777777778,
              "#fb9f3a"
             ],
             [
              0.8888888888888888,
              "#fdca26"
             ],
             [
              1,
              "#f0f921"
             ]
            ],
            "type": "surface"
           }
          ],
          "table": [
           {
            "cells": {
             "fill": {
              "color": "#EBF0F8"
             },
             "line": {
              "color": "white"
             }
            },
            "header": {
             "fill": {
              "color": "#C8D4E3"
             },
             "line": {
              "color": "white"
             }
            },
            "type": "table"
           }
          ]
         },
         "layout": {
          "annotationdefaults": {
           "arrowcolor": "#2a3f5f",
           "arrowhead": 0,
           "arrowwidth": 1
          },
          "autotypenumbers": "strict",
          "coloraxis": {
           "colorbar": {
            "outlinewidth": 0,
            "ticks": ""
           }
          },
          "colorscale": {
           "diverging": [
            [
             0,
             "#8e0152"
            ],
            [
             0.1,
             "#c51b7d"
            ],
            [
             0.2,
             "#de77ae"
            ],
            [
             0.3,
             "#f1b6da"
            ],
            [
             0.4,
             "#fde0ef"
            ],
            [
             0.5,
             "#f7f7f7"
            ],
            [
             0.6,
             "#e6f5d0"
            ],
            [
             0.7,
             "#b8e186"
            ],
            [
             0.8,
             "#7fbc41"
            ],
            [
             0.9,
             "#4d9221"
            ],
            [
             1,
             "#276419"
            ]
           ],
           "sequential": [
            [
             0,
             "#0d0887"
            ],
            [
             0.1111111111111111,
             "#46039f"
            ],
            [
             0.2222222222222222,
             "#7201a8"
            ],
            [
             0.3333333333333333,
             "#9c179e"
            ],
            [
             0.4444444444444444,
             "#bd3786"
            ],
            [
             0.5555555555555556,
             "#d8576b"
            ],
            [
             0.6666666666666666,
             "#ed7953"
            ],
            [
             0.7777777777777778,
             "#fb9f3a"
            ],
            [
             0.8888888888888888,
             "#fdca26"
            ],
            [
             1,
             "#f0f921"
            ]
           ],
           "sequentialminus": [
            [
             0,
             "#0d0887"
            ],
            [
             0.1111111111111111,
             "#46039f"
            ],
            [
             0.2222222222222222,
             "#7201a8"
            ],
            [
             0.3333333333333333,
             "#9c179e"
            ],
            [
             0.4444444444444444,
             "#bd3786"
            ],
            [
             0.5555555555555556,
             "#d8576b"
            ],
            [
             0.6666666666666666,
             "#ed7953"
            ],
            [
             0.7777777777777778,
             "#fb9f3a"
            ],
            [
             0.8888888888888888,
             "#fdca26"
            ],
            [
             1,
             "#f0f921"
            ]
           ]
          },
          "colorway": [
           "#636efa",
           "#EF553B",
           "#00cc96",
           "#ab63fa",
           "#FFA15A",
           "#19d3f3",
           "#FF6692",
           "#B6E880",
           "#FF97FF",
           "#FECB52"
          ],
          "font": {
           "color": "#2a3f5f"
          },
          "geo": {
           "bgcolor": "white",
           "lakecolor": "white",
           "landcolor": "#E5ECF6",
           "showlakes": true,
           "showland": true,
           "subunitcolor": "white"
          },
          "hoverlabel": {
           "align": "left"
          },
          "hovermode": "closest",
          "mapbox": {
           "style": "light"
          },
          "paper_bgcolor": "white",
          "plot_bgcolor": "#E5ECF6",
          "polar": {
           "angularaxis": {
            "gridcolor": "white",
            "linecolor": "white",
            "ticks": ""
           },
           "bgcolor": "#E5ECF6",
           "radialaxis": {
            "gridcolor": "white",
            "linecolor": "white",
            "ticks": ""
           }
          },
          "scene": {
           "xaxis": {
            "backgroundcolor": "#E5ECF6",
            "gridcolor": "white",
            "gridwidth": 2,
            "linecolor": "white",
            "showbackground": true,
            "ticks": "",
            "zerolinecolor": "white"
           },
           "yaxis": {
            "backgroundcolor": "#E5ECF6",
            "gridcolor": "white",
            "gridwidth": 2,
            "linecolor": "white",
            "showbackground": true,
            "ticks": "",
            "zerolinecolor": "white"
           },
           "zaxis": {
            "backgroundcolor": "#E5ECF6",
            "gridcolor": "white",
            "gridwidth": 2,
            "linecolor": "white",
            "showbackground": true,
            "ticks": "",
            "zerolinecolor": "white"
           }
          },
          "shapedefaults": {
           "line": {
            "color": "#2a3f5f"
           }
          },
          "ternary": {
           "aaxis": {
            "gridcolor": "white",
            "linecolor": "white",
            "ticks": ""
           },
           "baxis": {
            "gridcolor": "white",
            "linecolor": "white",
            "ticks": ""
           },
           "bgcolor": "#E5ECF6",
           "caxis": {
            "gridcolor": "white",
            "linecolor": "white",
            "ticks": ""
           }
          },
          "title": {
           "x": 0.05
          },
          "xaxis": {
           "automargin": true,
           "gridcolor": "white",
           "linecolor": "white",
           "ticks": "",
           "title": {
            "standoff": 15
           },
           "zerolinecolor": "white",
           "zerolinewidth": 2
          },
          "yaxis": {
           "automargin": true,
           "gridcolor": "white",
           "linecolor": "white",
           "ticks": "",
           "title": {
            "standoff": 15
           },
           "zerolinecolor": "white",
           "zerolinewidth": 2
          }
         }
        },
        "title": {
         "text": "Impact of Different Investor Types on Acquisition Rates"
        },
        "xaxis": {
         "anchor": "y",
         "domain": [
          0,
          0.15
         ],
         "title": {
          "text": "Startup Type"
         }
        },
        "xaxis2": {
         "anchor": "y2",
         "domain": [
          0.16999999999999998,
          0.31999999999999995
         ],
         "matches": "x",
         "title": {
          "text": "Startup Type"
         }
        },
        "xaxis3": {
         "anchor": "y3",
         "domain": [
          0.33999999999999997,
          0.49
         ],
         "matches": "x",
         "title": {
          "text": "Startup Type"
         }
        },
        "xaxis4": {
         "anchor": "y4",
         "domain": [
          0.51,
          0.66
         ],
         "matches": "x",
         "title": {
          "text": "Startup Type"
         }
        },
        "xaxis5": {
         "anchor": "y5",
         "domain": [
          0.6799999999999999,
          0.83
         ],
         "matches": "x",
         "title": {
          "text": "Startup Type"
         }
        },
        "xaxis6": {
         "anchor": "y6",
         "domain": [
          0.85,
          1
         ],
         "matches": "x",
         "title": {
          "text": "Startup Type"
         }
        },
        "yaxis": {
         "anchor": "x",
         "domain": [
          0,
          1
         ],
         "title": {
          "text": "Acquisition Rate"
         }
        },
        "yaxis2": {
         "anchor": "x2",
         "domain": [
          0,
          1
         ],
         "matches": "y",
         "showticklabels": false
        },
        "yaxis3": {
         "anchor": "x3",
         "domain": [
          0,
          1
         ],
         "matches": "y",
         "showticklabels": false
        },
        "yaxis4": {
         "anchor": "x4",
         "domain": [
          0,
          1
         ],
         "matches": "y",
         "showticklabels": false
        },
        "yaxis5": {
         "anchor": "x5",
         "domain": [
          0,
          1
         ],
         "matches": "y",
         "showticklabels": false
        },
        "yaxis6": {
         "anchor": "x6",
         "domain": [
          0,
          1
         ],
         "matches": "y",
         "showticklabels": false
        }
       }
      },
      "text/html": [
       "<div>                            <div id=\"8dd201a1-b1ec-4f03-bd76-610ea807e294\" class=\"plotly-graph-div\" style=\"height:525px; width:100%;\"></div>            <script type=\"text/javascript\">                require([\"plotly\"], function(Plotly) {                    window.PLOTLYENV=window.PLOTLYENV || {};                                    if (document.getElementById(\"8dd201a1-b1ec-4f03-bd76-610ea807e294\")) {                    Plotly.newPlot(                        \"8dd201a1-b1ec-4f03-bd76-610ea807e294\",                        [{\"hovertemplate\":\"investment_type=has_VC\\u003cbr\\u003eStartup Type=%{x}\\u003cbr\\u003eAcquisition Rate=%{y}\\u003cextra\\u003e\\u003c\\u002fextra\\u003e\",\"legendgroup\":\"has_VC\",\"marker\":{\"color\":\"#636efa\",\"symbol\":\"circle\"},\"mode\":\"markers\",\"name\":\"has_VC\",\"orientation\":\"v\",\"showlegend\":true,\"x\":[\"network_hosting\",\"network_hosting\",\"software\",\"games_video\",\"network_hosting\",\"biotech\",\"music\",\"web\",\"biotech\",\"ecommerce\",\"ecommerce\",\"medical\",\"other\",\"enterprise\",\"ecommerce\",\"search\",\"web\",\"web\",\"enterprise\",\"web\",\"security\",\"medical\",\"network_hosting\",\"web\",\"music\",\"enterprise\",\"medical\",\"network_hosting\",\"web\",\"finance\",\"web\",\"web\",\"biotech\",\"games_video\",\"software\",\"consulting\",\"photo_video\",\"education\",\"semiconductor\",\"web\",\"hardware\",\"enterprise\",\"travel\",\"security\",\"public_relations\",\"mobile\",\"hardware\",\"games_video\",\"network_hosting\",\"software\",\"enterprise\",\"enterprise\",\"biotech\",\"software\",\"mobile\",\"education\",\"enterprise\",\"analytics\",\"software\",\"news\",\"analytics\",\"mobile\",\"security\",\"software\",\"biotech\",\"semiconductor\",\"advertising\",\"consulting\",\"social\",\"cleantech\",\"advertising\",\"mobile\",\"cleantech\",\"analytics\",\"advertising\",\"mobile\",\"automotive\",\"semiconductor\",\"public_relations\",\"hardware\",\"software\",\"semiconductor\",\"transportation\",\"enterprise\",\"cleantech\",\"mobile\",\"public_relations\",\"mobile\",\"advertising\",\"advertising\",\"photo_video\",\"semiconductor\",\"advertising\",\"public_relations\",\"cleantech\",\"semiconductor\",\"social\",\"travel\",\"advertising\",\"hardware\",\"semiconductor\",\"software\",\"mobile\",\"semiconductor\",\"semiconductor\",\"advertising\",\"mobile\",\"advertising\",\"enterprise\",\"hardware\",\"news\",\"mobile\",\"real_estate\",\"music\",\"hardware\",\"cleantech\",\"security\",\"mobile\",\"network_hosting\",\"mobile\",\"security\",\"biotech\",\"games_video\",\"enterprise\",\"games_video\",\"enterprise\",\"software\",\"ecommerce\",\"health\",\"software\",\"mobile\",\"web\",\"security\",\"software\",\"fashion\",\"games_video\",\"biotech\",\"software\",\"enterprise\",\"analytics\",\"games_video\",\"software\",\"hardware\",\"enterprise\",\"enterprise\",\"ecommerce\"],\"xaxis\":\"x\",\"y\":[0.6666666666666666,1.0,0.0,1.0,1.0,0.0,1.0,1.0,0.5,1.0,0.0,0.5,0.0,0.5,0.0,1.0,1.0,0.5,0.25,0.6,0.0,1.0,1.0,1.0,1.0,0.5,0.0,1.0,0.6666666666666666,0.5,0.5833333333333334,0.0,0.3333333333333333,0.0,0.5,0.0,0.0,1.0,0.6666666666666666,1.0,0.5,1.0,0.5,1.0,0.0,1.0,1.0,1.0,1.0,0.3888888888888889,1.0,1.0,0.0,1.0,0.5,0.0,1.0,1.0,1.0,0.5,0.5,1.0,1.0,0.8,0.0,1.0,0.0,1.0,1.0,0.0,0.6666666666666666,1.0,1.0,1.0,1.0,1.0,0.0,1.0,1.0,0.5,0.0,1.0,1.0,1.0,0.0,0.3333333333333333,0.3333333333333333,1.0,1.0,1.0,0.5,0.25,0.75,0.5,0.3333333333333333,0.3333333333333333,0.5,1.0,0.5,0.0,1.0,1.0,0.6666666666666666,1.0,1.0,1.0,0.25,0.0,1.0,1.0,1.0,1.0,1.0,1.0,1.0,0.6666666666666666,1.0,1.0,1.0,0.2222222222222222,1.0,1.0,0.5,0.0,1.0,1.0,0.8,0.0,1.0,0.0,0.5,1.0,0.0,0.8333333333333334,1.0,0.0,1.0,0.6666666666666666,1.0,1.0,0.3333333333333333,1.0,0.0,1.0,0.6666666666666666,0.5],\"yaxis\":\"y\",\"type\":\"scatter\"},{\"hovertemplate\":\"investment_type=has_angel\\u003cbr\\u003eStartup Type=%{x}\\u003cbr\\u003eAcquisition Rate=%{y}\\u003cextra\\u003e\\u003c\\u002fextra\\u003e\",\"legendgroup\":\"has_angel\",\"marker\":{\"color\":\"#EF553B\",\"symbol\":\"circle\"},\"mode\":\"markers\",\"name\":\"has_angel\",\"orientation\":\"v\",\"showlegend\":true,\"x\":[\"mobile\",\"public_relations\",\"travel\",\"social\",\"health\",\"sports\",\"music\",\"web\",\"software\",\"travel\",\"ecommerce\",\"messaging\",\"news\",\"social\",\"mobile\",\"photo_video\",\"web\",\"public_relations\",\"mobile\",\"enterprise\",\"education\",\"music\",\"mobile\",\"messaging\",\"cleantech\",\"games_video\",\"software\",\"photo_video\",\"advertising\",\"web\",\"messaging\",\"games_video\",\"network_hosting\",\"web\",\"enterprise\",\"hospitality\",\"web\",\"biotech\",\"education\",\"analytics\",\"analytics\",\"software\",\"fashion\",\"news\",\"advertising\",\"enterprise\",\"advertising\",\"analytics\",\"network_hosting\",\"network_hosting\",\"search\",\"security\",\"mobile\",\"enterprise\",\"ecommerce\",\"software\",\"fashion\",\"real_estate\",\"games_video\",\"advertising\",\"network_hosting\",\"security\",\"enterprise\",\"social\",\"travel\",\"web\",\"games_video\",\"network_hosting\",\"software\",\"music\",\"ecommerce\",\"enterprise\",\"travel\",\"hardware\",\"software\",\"mobile\",\"games_video\",\"ecommerce\",\"games_video\",\"advertising\",\"advertising\",\"analytics\",\"enterprise\"],\"xaxis\":\"x2\",\"y\":[0.42857142857142855,0.0,1.0,1.0,1.0,1.0,1.0,1.0,0.6666666666666666,1.0,1.0,0.5,1.0,0.3333333333333333,1.0,1.0,0.5,0.0,0.6,0.25,1.0,1.0,1.0,0.5,0.0,0.0,0.5,0.0,1.0,0.4722222222222222,1.0,1.0,1.0,0.7058823529411765,1.0,1.0,1.0,1.0,0.0,0.5,1.0,1.0,1.0,1.0,0.375,0.8,0.0,0.6666666666666666,1.0,1.0,1.0,1.0,1.0,1.0,0.16666666666666666,0.0,0.0,0.0,0.0,1.0,0.0,0.0,0.6,0.5,1.0,1.0,0.25,0.3333333333333333,1.0,1.0,0.5,1.0,1.0,1.0,1.0,0.2222222222222222,0.6666666666666666,0.0,1.0,1.0,1.0,1.0,1.0],\"yaxis\":\"y2\",\"type\":\"scatter\"},{\"hovertemplate\":\"investment_type=has_roundA\\u003cbr\\u003eStartup Type=%{x}\\u003cbr\\u003eAcquisition Rate=%{y}\\u003cextra\\u003e\\u003c\\u002fextra\\u003e\",\"legendgroup\":\"has_roundA\",\"marker\":{\"color\":\"#00cc96\",\"symbol\":\"circle\"},\"mode\":\"markers\",\"name\":\"has_roundA\",\"orientation\":\"v\",\"showlegend\":true,\"x\":[\"photo_video\",\"education\",\"software\",\"public_relations\",\"social\",\"enterprise\",\"network_hosting\",\"public_relations\",\"biotech\",\"automotive\",\"health\",\"messaging\",\"fashion\",\"music\",\"social\",\"travel\",\"ecommerce\",\"cleantech\",\"advertising\",\"photo_video\",\"messaging\",\"hardware\",\"fashion\",\"mobile\",\"analytics\",\"ecommerce\",\"search\",\"mobile\",\"photo_video\",\"web\",\"semiconductor\",\"games_video\",\"mobile\",\"web\",\"education\",\"music\",\"medical\",\"mobile\",\"web\",\"advertising\",\"transportation\",\"finance\",\"semiconductor\",\"cleantech\",\"consulting\",\"advertising\",\"education\",\"web\",\"hardware\",\"enterprise\",\"games_video\",\"enterprise\",\"travel\",\"advertising\",\"hardware\",\"games_video\",\"semiconductor\",\"network_hosting\",\"web\",\"games_video\",\"enterprise\",\"network_hosting\",\"biotech\",\"hospitality\",\"advertising\",\"web\",\"biotech\",\"social\",\"analytics\",\"analytics\",\"web\",\"enterprise\",\"software\",\"biotech\",\"games_video\",\"messaging\",\"enterprise\",\"fashion\",\"software\",\"mobile\",\"news\",\"biotech\",\"software\",\"web\",\"messaging\",\"other\",\"web\",\"enterprise\",\"consulting\",\"social\",\"search\",\"finance\",\"network_hosting\",\"security\",\"network_hosting\",\"biotech\",\"security\",\"finance\",\"mobile\",\"cleantech\",\"analytics\",\"security\",\"mobile\",\"mobile\",\"enterprise\",\"software\",\"network_hosting\",\"software\",\"travel\",\"semiconductor\",\"software\",\"advertising\",\"search\",\"advertising\",\"network_hosting\",\"other\",\"photo_video\",\"semiconductor\",\"advertising\",\"ecommerce\",\"software\",\"advertising\",\"semiconductor\",\"web\",\"mobile\",\"other\",\"news\",\"ecommerce\",\"mobile\",\"ecommerce\",\"ecommerce\",\"hardware\",\"network_hosting\",\"web\",\"news\",\"mobile\",\"ecommerce\",\"cleantech\",\"cleantech\",\"mobile\",\"security\",\"biotech\",\"games_video\",\"music\",\"biotech\",\"enterprise\",\"games_video\",\"enterprise\",\"games_video\",\"health\",\"manufacturing\",\"mobile\",\"hardware\",\"search\",\"enterprise\",\"web\",\"games_video\",\"games_video\",\"security\",\"finance\",\"software\",\"analytics\",\"advertising\",\"fashion\",\"games_video\",\"analytics\",\"analytics\",\"software\",\"hardware\",\"enterprise\",\"enterprise\",\"security\",\"mobile\"],\"xaxis\":\"x3\",\"y\":[1.0,1.0,0.0,0.0,1.0,1.0,1.0,0.0,0.0,1.0,1.0,0.0,0.0,1.0,1.0,1.0,1.0,1.0,0.8,1.0,0.5,1.0,1.0,0.625,1.0,0.0,1.0,1.0,1.0,0.5,0.0,1.0,0.6,0.6,1.0,1.0,0.0,1.0,0.6666666666666666,0.75,1.0,0.5,1.0,0.4,0.0,1.0,1.0,1.0,0.5,0.6666666666666666,1.0,1.0,0.5,0.75,1.0,1.0,1.0,1.0,0.7058823529411765,0.6666666666666666,1.0,0.6666666666666666,0.0,1.0,1.0,1.0,1.0,1.0,0.5,1.0,1.0,1.0,1.0,1.0,1.0,1.0,0.75,1.0,0.5555555555555556,1.0,1.0,1.0,0.8,1.0,1.0,0.0,0.5833333333333334,0.8,1.0,1.0,0.5,1.0,1.0,1.0,1.0,1.0,1.0,1.0,1.0,1.0,1.0,1.0,1.0,1.0,1.0,0.65,1.0,0.0,1.0,1.0,0.7,1.0,0.5,1.0,0.0,0.0,0.5,0.25,0.75,1.0,1.0,0.5,1.0,1.0,0.6666666666666666,0.0,1.0,0.6,0.25,1.0,0.5,1.0,0.5,0.8947368421052632,1.0,1.0,1.0,0.6666666666666666,0.5,1.0,1.0,1.0,0.6666666666666666,1.0,1.0,0.0,1.0,1.0,0.4444444444444444,1.0,0.0,1.0,0.6666666666666666,0.0,0.875,1.0,1.0,1.0,0.0,1.0,0.8333333333333334,1.0,1.0,1.0,0.0,1.0,1.0,1.0,0.0,1.0,0.6666666666666666,0.0,0.75],\"yaxis\":\"y3\",\"type\":\"scatter\"},{\"hovertemplate\":\"investment_type=has_roundB\\u003cbr\\u003eStartup Type=%{x}\\u003cbr\\u003eAcquisition Rate=%{y}\\u003cextra\\u003e\\u003c\\u002fextra\\u003e\",\"legendgroup\":\"has_roundB\",\"marker\":{\"color\":\"#ab63fa\",\"symbol\":\"circle\"},\"mode\":\"markers\",\"name\":\"has_roundB\",\"orientation\":\"v\",\"showlegend\":true,\"x\":[\"education\",\"hardware\",\"travel\",\"games_video\",\"enterprise\",\"network_hosting\",\"cleantech\",\"music\",\"cleantech\",\"advertising\",\"ecommerce\",\"medical\",\"photo_video\",\"fashion\",\"fashion\",\"mobile\",\"web\",\"photo_video\",\"games_video\",\"advertising\",\"semiconductor\",\"photo_video\",\"security\",\"medical\",\"network_hosting\",\"enterprise\",\"mobile\",\"network_hosting\",\"web\",\"advertising\",\"transportation\",\"web\",\"biotech\",\"semiconductor\",\"semiconductor\",\"web\",\"messaging\",\"education\",\"enterprise\",\"games_video\",\"enterprise\",\"hardware\",\"games_video\",\"semiconductor\",\"games_video\",\"enterprise\",\"network_hosting\",\"software\",\"advertising\",\"mobile\",\"advertising\",\"web\",\"social\",\"cleantech\",\"analytics\",\"hardware\",\"web\",\"analytics\",\"biotech\",\"enterprise\",\"messaging\",\"software\",\"biotech\",\"web\",\"biotech\",\"messaging\",\"finance\",\"other\",\"semiconductor\",\"consulting\",\"social\",\"search\",\"software\",\"finance\",\"network_hosting\",\"biotech\",\"finance\",\"software\",\"mobile\",\"analytics\",\"advertising\",\"security\",\"mobile\",\"mobile\",\"enterprise\",\"software\",\"network_hosting\",\"software\",\"travel\",\"semiconductor\",\"transportation\",\"search\",\"enterprise\",\"cleantech\",\"software\",\"mobile\",\"advertising\",\"other\",\"games_video\",\"network_hosting\",\"advertising\",\"network_hosting\",\"other\",\"public_relations\",\"ecommerce\",\"web\",\"software\",\"other\",\"medical\",\"advertising\",\"hardware\",\"semiconductor\",\"web\",\"software\",\"mobile\",\"semiconductor\",\"semiconductor\",\"other\",\"news\",\"public_relations\",\"security\",\"ecommerce\",\"advertising\",\"enterprise\",\"enterprise\",\"web\",\"news\",\"enterprise\",\"hardware\",\"ecommerce\",\"cleantech\",\"security\",\"cleantech\",\"mobile\",\"biotech\",\"biotech\",\"enterprise\",\"games_video\",\"enterprise\",\"health\",\"mobile\",\"software\",\"hardware\",\"search\",\"mobile\",\"enterprise\",\"web\",\"games_video\",\"games_video\",\"security\",\"advertising\",\"finance\",\"software\",\"analytics\",\"advertising\",\"games_video\",\"fashion\",\"software\",\"enterprise\",\"analytics\",\"analytics\",\"software\",\"hardware\",\"enterprise\",\"security\",\"mobile\"],\"xaxis\":\"x4\",\"y\":[1.0,1.0,1.0,1.0,1.0,1.0,0.5,1.0,1.0,0.8,0.0,0.5,1.0,1.0,1.0,1.0,1.0,1.0,1.0,1.0,0.3333333333333333,1.0,0.0,1.0,1.0,0.5,1.0,1.0,0.6666666666666666,0.75,1.0,0.0,0.3333333333333333,1.0,1.0,1.0,1.0,1.0,0.6666666666666666,1.0,1.0,1.0,1.0,1.0,0.6666666666666666,1.0,0.6666666666666666,1.0,1.0,0.5,0.6666666666666666,1.0,1.0,1.0,1.0,0.0,1.0,1.0,1.0,1.0,1.0,0.375,0.5,1.0,0.0,1.0,0.0,0.0,1.0,1.0,1.0,0.5,1.0,1.0,1.0,1.0,1.0,1.0,1.0,1.0,1.0,1.0,1.0,1.0,1.0,0.65,1.0,0.0,1.0,1.0,1.0,1.0,1.0,0.0,0.7,1.0,1.0,1.0,0.0,0.6666666666666666,1.0,0.0,0.0,0.5,1.0,1.0,1.0,1.0,0.0,0.5,0.0,1.0,1.0,1.0,0.6666666666666666,1.0,1.0,0.0,1.0,0.5,1.0,1.0,0.0,1.0,1.0,0.8947368421052632,1.0,1.0,0.0,1.0,0.6666666666666666,1.0,0.5,1.0,1.0,1.0,0.0,1.0,1.0,1.0,1.0,0.0,0.6666666666666666,0.0,0.5,0.875,1.0,1.0,1.0,0.0,1.0,1.0,0.8333333333333334,1.0,1.0,1.0,1.0,0.6666666666666666,1.0,1.0,1.0,1.0,0.0,1.0,0.0,0.75],\"yaxis\":\"y4\",\"type\":\"scatter\"},{\"hovertemplate\":\"investment_type=has_roundC\\u003cbr\\u003eStartup Type=%{x}\\u003cbr\\u003eAcquisition Rate=%{y}\\u003cextra\\u003e\\u003c\\u002fextra\\u003e\",\"legendgroup\":\"has_roundC\",\"marker\":{\"color\":\"#FFA15A\",\"symbol\":\"circle\"},\"mode\":\"markers\",\"name\":\"has_roundC\",\"orientation\":\"v\",\"showlegend\":true,\"x\":[\"hardware\",\"education\",\"network_hosting\",\"software\",\"hardware\",\"travel\",\"semiconductor\",\"enterprise\",\"public_relations\",\"biotech\",\"cleantech\",\"advertising\",\"ecommerce\",\"medical\",\"fashion\",\"hardware\",\"mobile\",\"games_video\",\"web\",\"network_hosting\",\"transportation\",\"web\",\"semiconductor\",\"web\",\"education\",\"web\",\"hardware\",\"enterprise\",\"games_video\",\"music\",\"security\",\"public_relations\",\"mobile\",\"games_video\",\"semiconductor\",\"enterprise\",\"software\",\"advertising\",\"advertising\",\"web\",\"biotech\",\"cleantech\",\"analytics\",\"hardware\",\"consulting\",\"web\",\"enterprise\",\"analytics\",\"biotech\",\"enterprise\",\"games_video\",\"mobile\",\"biotech\",\"security\",\"web\",\"biotech\",\"biotech\",\"messaging\",\"finance\",\"other\",\"consulting\",\"social\",\"software\",\"network_hosting\",\"security\",\"cleantech\",\"medical\",\"software\",\"mobile\",\"analytics\",\"mobile\",\"mobile\",\"automotive\",\"semiconductor\",\"network_hosting\",\"travel\",\"enterprise\",\"software\",\"mobile\",\"advertising\",\"advertising\",\"software\",\"other\",\"semiconductor\",\"semiconductor\",\"software\",\"semiconductor\",\"advertising\",\"news\",\"ecommerce\",\"advertising\",\"enterprise\",\"news\",\"ecommerce\",\"enterprise\",\"cleantech\",\"cleantech\",\"security\",\"mobile\",\"advertising\",\"semiconductor\",\"search\",\"biotech\",\"enterprise\",\"other\",\"enterprise\",\"software\",\"health\",\"software\",\"mobile\",\"public_relations\",\"software\",\"search\",\"mobile\",\"web\",\"games_video\",\"games_video\",\"security\",\"finance\",\"fashion\",\"mobile\",\"software\",\"hardware\",\"enterprise\",\"security\"],\"xaxis\":\"x5\",\"y\":[0.0,1.0,1.0,0.0,0.0,1.0,1.0,1.0,1.0,0.0,1.0,0.8,0.0,0.5,1.0,1.0,1.0,1.0,1.0,1.0,1.0,0.0,1.0,1.0,1.0,1.0,0.5,0.6666666666666666,1.0,1.0,1.0,0.0,1.0,1.0,1.0,1.0,1.0,1.0,0.6666666666666666,1.0,1.0,1.0,1.0,0.0,1.0,1.0,1.0,1.0,1.0,1.0,1.0,1.0,1.0,1.0,1.0,1.0,0.0,1.0,0.0,0.0,1.0,1.0,1.0,1.0,1.0,0.0,1.0,1.0,1.0,1.0,1.0,1.0,0.0,1.0,1.0,1.0,1.0,0.7,1.0,1.0,1.0,1.0,1.0,0.3333333333333333,1.0,0.5,1.0,1.0,1.0,1.0,0.0,1.0,1.0,1.0,0.6666666666666666,0.0,0.6666666666666666,1.0,1.0,1.0,0.6,1.0,1.0,0.0,0.0,1.0,0.8,1.0,0.6666666666666666,1.0,0.6,0.0,0.0,0.5,1.0,1.0,1.0,0.0,1.0,1.0,1.0,1.0,0.0,1.0,0.0],\"yaxis\":\"y5\",\"type\":\"scatter\"},{\"hovertemplate\":\"investment_type=has_roundD\\u003cbr\\u003eStartup Type=%{x}\\u003cbr\\u003eAcquisition Rate=%{y}\\u003cextra\\u003e\\u003c\\u002fextra\\u003e\",\"legendgroup\":\"has_roundD\",\"marker\":{\"color\":\"#19d3f3\",\"symbol\":\"circle\"},\"mode\":\"markers\",\"name\":\"has_roundD\",\"orientation\":\"v\",\"showlegend\":true,\"x\":[\"hardware\",\"network_hosting\",\"hardware\",\"semiconductor\",\"public_relations\",\"security\",\"public_relations\",\"games_video\",\"enterprise\",\"mobile\",\"software\",\"advertising\",\"web\",\"biotech\",\"medical\",\"cleantech\",\"web\",\"software\",\"mobile\",\"mobile\",\"biotech\",\"security\",\"biotech\",\"biotech\",\"software\",\"finance\",\"network_hosting\",\"mobile\",\"mobile\",\"public_relations\",\"transportation\",\"enterprise\",\"advertising\",\"other\",\"software\",\"semiconductor\",\"other\",\"semiconductor\",\"software\",\"semiconductor\",\"news\",\"web\",\"mobile\",\"software\",\"ecommerce\",\"security\",\"software\",\"mobile\",\"network_hosting\",\"games_video\",\"search\",\"semiconductor\",\"biotech\",\"enterprise\",\"search\",\"mobile\",\"web\",\"games_video\",\"security\",\"finance\",\"enterprise\",\"biotech\",\"enterprise\",\"enterprise\"],\"xaxis\":\"x6\",\"y\":[0.0,1.0,1.0,1.0,1.0,1.0,0.6666666666666666,1.0,0.6666666666666666,1.0,1.0,1.0,1.0,1.0,1.0,1.0,1.0,1.0,1.0,1.0,1.0,1.0,0.5,0.0,1.0,1.0,1.0,1.0,1.0,1.0,1.0,1.0,1.0,1.0,1.0,0.3333333333333333,0.0,1.0,0.5,1.0,1.0,0.0,1.0,1.0,1.0,1.0,1.0,1.0,1.0,0.5,1.0,1.0,1.0,1.0,0.0,0.5,1.0,1.0,0.0,1.0,1.0,1.0,1.0,1.0],\"yaxis\":\"y6\",\"type\":\"scatter\"}],                        {\"template\":{\"data\":{\"histogram2dcontour\":[{\"type\":\"histogram2dcontour\",\"colorbar\":{\"outlinewidth\":0,\"ticks\":\"\"},\"colorscale\":[[0.0,\"#0d0887\"],[0.1111111111111111,\"#46039f\"],[0.2222222222222222,\"#7201a8\"],[0.3333333333333333,\"#9c179e\"],[0.4444444444444444,\"#bd3786\"],[0.5555555555555556,\"#d8576b\"],[0.6666666666666666,\"#ed7953\"],[0.7777777777777778,\"#fb9f3a\"],[0.8888888888888888,\"#fdca26\"],[1.0,\"#f0f921\"]]}],\"choropleth\":[{\"type\":\"choropleth\",\"colorbar\":{\"outlinewidth\":0,\"ticks\":\"\"}}],\"histogram2d\":[{\"type\":\"histogram2d\",\"colorbar\":{\"outlinewidth\":0,\"ticks\":\"\"},\"colorscale\":[[0.0,\"#0d0887\"],[0.1111111111111111,\"#46039f\"],[0.2222222222222222,\"#7201a8\"],[0.3333333333333333,\"#9c179e\"],[0.4444444444444444,\"#bd3786\"],[0.5555555555555556,\"#d8576b\"],[0.6666666666666666,\"#ed7953\"],[0.7777777777777778,\"#fb9f3a\"],[0.8888888888888888,\"#fdca26\"],[1.0,\"#f0f921\"]]}],\"heatmap\":[{\"type\":\"heatmap\",\"colorbar\":{\"outlinewidth\":0,\"ticks\":\"\"},\"colorscale\":[[0.0,\"#0d0887\"],[0.1111111111111111,\"#46039f\"],[0.2222222222222222,\"#7201a8\"],[0.3333333333333333,\"#9c179e\"],[0.4444444444444444,\"#bd3786\"],[0.5555555555555556,\"#d8576b\"],[0.6666666666666666,\"#ed7953\"],[0.7777777777777778,\"#fb9f3a\"],[0.8888888888888888,\"#fdca26\"],[1.0,\"#f0f921\"]]}],\"heatmapgl\":[{\"type\":\"heatmapgl\",\"colorbar\":{\"outlinewidth\":0,\"ticks\":\"\"},\"colorscale\":[[0.0,\"#0d0887\"],[0.1111111111111111,\"#46039f\"],[0.2222222222222222,\"#7201a8\"],[0.3333333333333333,\"#9c179e\"],[0.4444444444444444,\"#bd3786\"],[0.5555555555555556,\"#d8576b\"],[0.6666666666666666,\"#ed7953\"],[0.7777777777777778,\"#fb9f3a\"],[0.8888888888888888,\"#fdca26\"],[1.0,\"#f0f921\"]]}],\"contourcarpet\":[{\"type\":\"contourcarpet\",\"colorbar\":{\"outlinewidth\":0,\"ticks\":\"\"}}],\"contour\":[{\"type\":\"contour\",\"colorbar\":{\"outlinewidth\":0,\"ticks\":\"\"},\"colorscale\":[[0.0,\"#0d0887\"],[0.1111111111111111,\"#46039f\"],[0.2222222222222222,\"#7201a8\"],[0.3333333333333333,\"#9c179e\"],[0.4444444444444444,\"#bd3786\"],[0.5555555555555556,\"#d8576b\"],[0.6666666666666666,\"#ed7953\"],[0.7777777777777778,\"#fb9f3a\"],[0.8888888888888888,\"#fdca26\"],[1.0,\"#f0f921\"]]}],\"surface\":[{\"type\":\"surface\",\"colorbar\":{\"outlinewidth\":0,\"ticks\":\"\"},\"colorscale\":[[0.0,\"#0d0887\"],[0.1111111111111111,\"#46039f\"],[0.2222222222222222,\"#7201a8\"],[0.3333333333333333,\"#9c179e\"],[0.4444444444444444,\"#bd3786\"],[0.5555555555555556,\"#d8576b\"],[0.6666666666666666,\"#ed7953\"],[0.7777777777777778,\"#fb9f3a\"],[0.8888888888888888,\"#fdca26\"],[1.0,\"#f0f921\"]]}],\"mesh3d\":[{\"type\":\"mesh3d\",\"colorbar\":{\"outlinewidth\":0,\"ticks\":\"\"}}],\"scatter\":[{\"fillpattern\":{\"fillmode\":\"overlay\",\"size\":10,\"solidity\":0.2},\"type\":\"scatter\"}],\"parcoords\":[{\"type\":\"parcoords\",\"line\":{\"colorbar\":{\"outlinewidth\":0,\"ticks\":\"\"}}}],\"scatterpolargl\":[{\"type\":\"scatterpolargl\",\"marker\":{\"colorbar\":{\"outlinewidth\":0,\"ticks\":\"\"}}}],\"bar\":[{\"error_x\":{\"color\":\"#2a3f5f\"},\"error_y\":{\"color\":\"#2a3f5f\"},\"marker\":{\"line\":{\"color\":\"#E5ECF6\",\"width\":0.5},\"pattern\":{\"fillmode\":\"overlay\",\"size\":10,\"solidity\":0.2}},\"type\":\"bar\"}],\"scattergeo\":[{\"type\":\"scattergeo\",\"marker\":{\"colorbar\":{\"outlinewidth\":0,\"ticks\":\"\"}}}],\"scatterpolar\":[{\"type\":\"scatterpolar\",\"marker\":{\"colorbar\":{\"outlinewidth\":0,\"ticks\":\"\"}}}],\"histogram\":[{\"marker\":{\"pattern\":{\"fillmode\":\"overlay\",\"size\":10,\"solidity\":0.2}},\"type\":\"histogram\"}],\"scattergl\":[{\"type\":\"scattergl\",\"marker\":{\"colorbar\":{\"outlinewidth\":0,\"ticks\":\"\"}}}],\"scatter3d\":[{\"type\":\"scatter3d\",\"line\":{\"colorbar\":{\"outlinewidth\":0,\"ticks\":\"\"}},\"marker\":{\"colorbar\":{\"outlinewidth\":0,\"ticks\":\"\"}}}],\"scattermapbox\":[{\"type\":\"scattermapbox\",\"marker\":{\"colorbar\":{\"outlinewidth\":0,\"ticks\":\"\"}}}],\"scatterternary\":[{\"type\":\"scatterternary\",\"marker\":{\"colorbar\":{\"outlinewidth\":0,\"ticks\":\"\"}}}],\"scattercarpet\":[{\"type\":\"scattercarpet\",\"marker\":{\"colorbar\":{\"outlinewidth\":0,\"ticks\":\"\"}}}],\"carpet\":[{\"aaxis\":{\"endlinecolor\":\"#2a3f5f\",\"gridcolor\":\"white\",\"linecolor\":\"white\",\"minorgridcolor\":\"white\",\"startlinecolor\":\"#2a3f5f\"},\"baxis\":{\"endlinecolor\":\"#2a3f5f\",\"gridcolor\":\"white\",\"linecolor\":\"white\",\"minorgridcolor\":\"white\",\"startlinecolor\":\"#2a3f5f\"},\"type\":\"carpet\"}],\"table\":[{\"cells\":{\"fill\":{\"color\":\"#EBF0F8\"},\"line\":{\"color\":\"white\"}},\"header\":{\"fill\":{\"color\":\"#C8D4E3\"},\"line\":{\"color\":\"white\"}},\"type\":\"table\"}],\"barpolar\":[{\"marker\":{\"line\":{\"color\":\"#E5ECF6\",\"width\":0.5},\"pattern\":{\"fillmode\":\"overlay\",\"size\":10,\"solidity\":0.2}},\"type\":\"barpolar\"}],\"pie\":[{\"automargin\":true,\"type\":\"pie\"}]},\"layout\":{\"autotypenumbers\":\"strict\",\"colorway\":[\"#636efa\",\"#EF553B\",\"#00cc96\",\"#ab63fa\",\"#FFA15A\",\"#19d3f3\",\"#FF6692\",\"#B6E880\",\"#FF97FF\",\"#FECB52\"],\"font\":{\"color\":\"#2a3f5f\"},\"hovermode\":\"closest\",\"hoverlabel\":{\"align\":\"left\"},\"paper_bgcolor\":\"white\",\"plot_bgcolor\":\"#E5ECF6\",\"polar\":{\"bgcolor\":\"#E5ECF6\",\"angularaxis\":{\"gridcolor\":\"white\",\"linecolor\":\"white\",\"ticks\":\"\"},\"radialaxis\":{\"gridcolor\":\"white\",\"linecolor\":\"white\",\"ticks\":\"\"}},\"ternary\":{\"bgcolor\":\"#E5ECF6\",\"aaxis\":{\"gridcolor\":\"white\",\"linecolor\":\"white\",\"ticks\":\"\"},\"baxis\":{\"gridcolor\":\"white\",\"linecolor\":\"white\",\"ticks\":\"\"},\"caxis\":{\"gridcolor\":\"white\",\"linecolor\":\"white\",\"ticks\":\"\"}},\"coloraxis\":{\"colorbar\":{\"outlinewidth\":0,\"ticks\":\"\"}},\"colorscale\":{\"sequential\":[[0.0,\"#0d0887\"],[0.1111111111111111,\"#46039f\"],[0.2222222222222222,\"#7201a8\"],[0.3333333333333333,\"#9c179e\"],[0.4444444444444444,\"#bd3786\"],[0.5555555555555556,\"#d8576b\"],[0.6666666666666666,\"#ed7953\"],[0.7777777777777778,\"#fb9f3a\"],[0.8888888888888888,\"#fdca26\"],[1.0,\"#f0f921\"]],\"sequentialminus\":[[0.0,\"#0d0887\"],[0.1111111111111111,\"#46039f\"],[0.2222222222222222,\"#7201a8\"],[0.3333333333333333,\"#9c179e\"],[0.4444444444444444,\"#bd3786\"],[0.5555555555555556,\"#d8576b\"],[0.6666666666666666,\"#ed7953\"],[0.7777777777777778,\"#fb9f3a\"],[0.8888888888888888,\"#fdca26\"],[1.0,\"#f0f921\"]],\"diverging\":[[0,\"#8e0152\"],[0.1,\"#c51b7d\"],[0.2,\"#de77ae\"],[0.3,\"#f1b6da\"],[0.4,\"#fde0ef\"],[0.5,\"#f7f7f7\"],[0.6,\"#e6f5d0\"],[0.7,\"#b8e186\"],[0.8,\"#7fbc41\"],[0.9,\"#4d9221\"],[1,\"#276419\"]]},\"xaxis\":{\"gridcolor\":\"white\",\"linecolor\":\"white\",\"ticks\":\"\",\"title\":{\"standoff\":15},\"zerolinecolor\":\"white\",\"automargin\":true,\"zerolinewidth\":2},\"yaxis\":{\"gridcolor\":\"white\",\"linecolor\":\"white\",\"ticks\":\"\",\"title\":{\"standoff\":15},\"zerolinecolor\":\"white\",\"automargin\":true,\"zerolinewidth\":2},\"scene\":{\"xaxis\":{\"backgroundcolor\":\"#E5ECF6\",\"gridcolor\":\"white\",\"linecolor\":\"white\",\"showbackground\":true,\"ticks\":\"\",\"zerolinecolor\":\"white\",\"gridwidth\":2},\"yaxis\":{\"backgroundcolor\":\"#E5ECF6\",\"gridcolor\":\"white\",\"linecolor\":\"white\",\"showbackground\":true,\"ticks\":\"\",\"zerolinecolor\":\"white\",\"gridwidth\":2},\"zaxis\":{\"backgroundcolor\":\"#E5ECF6\",\"gridcolor\":\"white\",\"linecolor\":\"white\",\"showbackground\":true,\"ticks\":\"\",\"zerolinecolor\":\"white\",\"gridwidth\":2}},\"shapedefaults\":{\"line\":{\"color\":\"#2a3f5f\"}},\"annotationdefaults\":{\"arrowcolor\":\"#2a3f5f\",\"arrowhead\":0,\"arrowwidth\":1},\"geo\":{\"bgcolor\":\"white\",\"landcolor\":\"#E5ECF6\",\"subunitcolor\":\"white\",\"showland\":true,\"showlakes\":true,\"lakecolor\":\"white\"},\"title\":{\"x\":0.05},\"mapbox\":{\"style\":\"light\"}}},\"xaxis\":{\"anchor\":\"y\",\"domain\":[0.0,0.15],\"title\":{\"text\":\"Startup Type\"}},\"yaxis\":{\"anchor\":\"x\",\"domain\":[0.0,1.0],\"title\":{\"text\":\"Acquisition Rate\"}},\"xaxis2\":{\"anchor\":\"y2\",\"domain\":[0.16999999999999998,0.31999999999999995],\"matches\":\"x\",\"title\":{\"text\":\"Startup Type\"}},\"yaxis2\":{\"anchor\":\"x2\",\"domain\":[0.0,1.0],\"matches\":\"y\",\"showticklabels\":false},\"xaxis3\":{\"anchor\":\"y3\",\"domain\":[0.33999999999999997,0.49],\"matches\":\"x\",\"title\":{\"text\":\"Startup Type\"}},\"yaxis3\":{\"anchor\":\"x3\",\"domain\":[0.0,1.0],\"matches\":\"y\",\"showticklabels\":false},\"xaxis4\":{\"anchor\":\"y4\",\"domain\":[0.51,0.66],\"matches\":\"x\",\"title\":{\"text\":\"Startup Type\"}},\"yaxis4\":{\"anchor\":\"x4\",\"domain\":[0.0,1.0],\"matches\":\"y\",\"showticklabels\":false},\"xaxis5\":{\"anchor\":\"y5\",\"domain\":[0.6799999999999999,0.83],\"matches\":\"x\",\"title\":{\"text\":\"Startup Type\"}},\"yaxis5\":{\"anchor\":\"x5\",\"domain\":[0.0,1.0],\"matches\":\"y\",\"showticklabels\":false},\"xaxis6\":{\"anchor\":\"y6\",\"domain\":[0.85,1.0],\"matches\":\"x\",\"title\":{\"text\":\"Startup Type\"}},\"yaxis6\":{\"anchor\":\"x6\",\"domain\":[0.0,1.0],\"matches\":\"y\",\"showticklabels\":false},\"annotations\":[{\"font\":{},\"showarrow\":false,\"text\":\"has_VC\",\"x\":0.075,\"xanchor\":\"center\",\"xref\":\"paper\",\"y\":1.0,\"yanchor\":\"bottom\",\"yref\":\"paper\"},{\"font\":{},\"showarrow\":false,\"text\":\"has_angel\",\"x\":0.24499999999999997,\"xanchor\":\"center\",\"xref\":\"paper\",\"y\":1.0,\"yanchor\":\"bottom\",\"yref\":\"paper\"},{\"font\":{},\"showarrow\":false,\"text\":\"has_roundA\",\"x\":0.415,\"xanchor\":\"center\",\"xref\":\"paper\",\"y\":1.0,\"yanchor\":\"bottom\",\"yref\":\"paper\"},{\"font\":{},\"showarrow\":false,\"text\":\"has_roundB\",\"x\":0.585,\"xanchor\":\"center\",\"xref\":\"paper\",\"y\":1.0,\"yanchor\":\"bottom\",\"yref\":\"paper\"},{\"font\":{},\"showarrow\":false,\"text\":\"has_roundC\",\"x\":0.7549999999999999,\"xanchor\":\"center\",\"xref\":\"paper\",\"y\":1.0,\"yanchor\":\"bottom\",\"yref\":\"paper\"},{\"font\":{},\"showarrow\":false,\"text\":\"has_roundD\",\"x\":0.925,\"xanchor\":\"center\",\"xref\":\"paper\",\"y\":1.0,\"yanchor\":\"bottom\",\"yref\":\"paper\"}],\"legend\":{\"title\":{\"text\":\"investment_type\"},\"tracegroupgap\":0},\"title\":{\"text\":\"Impact of Different Investor Types on Acquisition Rates\"}},                        {\"responsive\": true}                    ).then(function(){\n",
       "                            \n",
       "var gd = document.getElementById('8dd201a1-b1ec-4f03-bd76-610ea807e294');\n",
       "var x = new MutationObserver(function (mutations, observer) {{\n",
       "        var display = window.getComputedStyle(gd).display;\n",
       "        if (!display || display === 'none') {{\n",
       "            console.log([gd, 'removed!']);\n",
       "            Plotly.purge(gd);\n",
       "            observer.disconnect();\n",
       "        }}\n",
       "}});\n",
       "\n",
       "// Listen for the removal of the full notebook cells\n",
       "var notebookContainer = gd.closest('#notebook-container');\n",
       "if (notebookContainer) {{\n",
       "    x.observe(notebookContainer, {childList: true});\n",
       "}}\n",
       "\n",
       "// Listen for the clearing of the current output cell\n",
       "var outputEl = gd.closest('.output');\n",
       "if (outputEl) {{\n",
       "    x.observe(outputEl, {childList: true});\n",
       "}}\n",
       "\n",
       "                        })                };                });            </script>        </div>"
      ]
     },
     "metadata": {},
     "output_type": "display_data"
    }
   ],
   "source": [
    "import plotly.express as px\n",
    "\n",
    "investment_impact = [\n",
    "    {\n",
    "        \"$group\": {\n",
    "            \"_id\": {\n",
    "                \"category\": \"$category_code\",\n",
    "                \"has_VC\": \"$has_VC\",\n",
    "                \"has_angel\": \"$has_angel\",\n",
    "                \"has_roundA\": \"$has_roundA\",\n",
    "                \"has_roundB\": \"$has_roundB\",\n",
    "                \"has_roundC\": \"$has_roundC\",\n",
    "                \"has_roundD\": \"$has_roundD\",\n",
    "            },\n",
    "            \"totalCount\": {\"$sum\": 1},\n",
    "            \"acquiredCount\": {\n",
    "                \"$sum\": {\"$cond\": [{\"$eq\": [\"$status\", \"acquired\"]}, 1, 0]}\n",
    "            },\n",
    "        }\n",
    "    },\n",
    "    {\n",
    "        \"$project\": {\n",
    "            \"_id\": 0,\n",
    "            \"category\": \"$_id.category\",\n",
    "            \"has_VC\": \"$_id.has_VC\",\n",
    "            \"has_angel\": \"$_id.has_angel\",\n",
    "            \"has_roundA\": \"$_id.has_roundA\",\n",
    "            \"has_roundB\": \"$_id.has_roundB\",\n",
    "            \"has_roundC\": \"$_id.has_roundC\",\n",
    "            \"has_roundD\": \"$_id.has_roundD\",\n",
    "            \"acquisition_rate\": {\"$divide\": [\"$acquiredCount\", \"$totalCount\"]},\n",
    "        }\n",
    "    },\n",
    "]\n",
    "\n",
    "result = list(startup_data.aggregate(investment_impact))\n",
    "data = pd.DataFrame(result)\n",
    "\n",
    "# Step 2: Melt the Data for Plotly\n",
    "melted_data = pd.melt(\n",
    "    data,\n",
    "    id_vars=[\"category\", \"acquisition_rate\"],\n",
    "    value_vars=[\"has_VC\", \"has_angel\", \"has_roundA\", \"has_roundB\", \"has_roundC\", \"has_roundD\"],\n",
    "    var_name=\"investment_type\",\n",
    "    value_name=\"presence\",\n",
    ")\n",
    "\n",
    "# Filter only where the investment type is present (presence == 1)\n",
    "filtered_data = melted_data[melted_data[\"presence\"] == 1]\n",
    "\n",
    "def labeller(pre) -> str:\n",
    "    return {\n",
    "        \"investment_type=has_VC\": \"VC\",\n",
    "        \"investment_type=has_angel\": \"VC\",\n",
    "        \"investment_type=has_roundA\": \"VC\",\n",
    "        \"investment_type=has_roundB\": \"VC\",\n",
    "        \"investment_type=has_roundC\": \"VC\",\n",
    "        \"investment_type=has_roundD\": \"VC\",\n",
    "    }[pre]\n",
    "\n",
    "# Step 3: Interactive Plotly Scatter Plot with Dropdown\n",
    "fig = px.scatter(\n",
    "    filtered_data,\n",
    "    x=\"category\",\n",
    "    y=\"acquisition_rate\",\n",
    "    color=\"investment_type\",\n",
    "    facet_col=\"investment_type\",\n",
    "    title=\"Impact of Different Investor Types on Acquisition Rates\",\n",
    "    labels={\n",
    "        \"category\": \"Startup Type\",\n",
    "        \"acquisition_rate\": \"Acquisition Rate\",\n",
    "    },\n",
    ")\n",
    "\n",
    "fig.for_each_annotation(lambda a: a.update(text=a.text.split(\"=\")[1]))\n",
    "\n",
    "fig.show()"
   ]
  },
  {
   "cell_type": "code",
   "execution_count": null,
   "id": "44bb75f1",
   "metadata": {},
   "outputs": [],
   "source": []
  }
 ],
 "metadata": {
  "kernelspec": {
   "display_name": "Python 3 (ipykernel)",
   "language": "python",
   "name": "python3"
  },
  "language_info": {
   "codemirror_mode": {
    "name": "ipython",
    "version": 3
   },
   "file_extension": ".py",
   "mimetype": "text/x-python",
   "name": "python",
   "nbconvert_exporter": "python",
   "pygments_lexer": "ipython3",
   "version": "3.10.14"
  }
 },
 "nbformat": 4,
 "nbformat_minor": 5
}
